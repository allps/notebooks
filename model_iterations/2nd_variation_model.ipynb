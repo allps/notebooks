{
  "nbformat": 4,
  "nbformat_minor": 0,
  "metadata": {
    "colab": {
      "name": "2nd_variation_model.ipynb",
      "provenance": [],
      "collapsed_sections": []
    },
    "kernelspec": {
      "name": "python3",
      "display_name": "Python 3"
    }
  },
  "cells": [
    {
      "cell_type": "code",
      "metadata": {
        "id": "wuBrUdjVfBj8",
        "colab_type": "code",
        "colab": {}
      },
      "source": [
        "%matplotlib inline\n",
        "import numpy as np\n",
        "from scipy.integrate import odeint\n",
        "import matplotlib.pyplot as plt"
      ],
      "execution_count": 0,
      "outputs": []
    },
    {
      "cell_type": "code",
      "metadata": {
        "id": "ZfsqF-d2fC9j",
        "colab_type": "code",
        "colab": {}
      },
      "source": [
        "def deriv(y, t, N, beta, delta, phi, epsilon, gamma, alpha, rho, lambda1):\n",
        "    S, E, C, I, R, D = y\n",
        "    dSdt = -beta * S * I / N\n",
        "    dEdt = beta * S * I / N - delta * epsilon * E - phi * (1 - epsilon) * E\n",
        "    dCdt = phi * (1 - epsilon) * E - lambda1 * C \n",
        "    dIdt = delta * epsilon * E + lambda1 * C - (1-alpha) * gamma * I - rho * alpha * I\n",
        "    dRdt =(1-alpha) * gamma * I          \n",
        "    dDdt = rho * alpha * I\n",
        "    return dSdt, dEdt, dCdt, dIdt, dRdt, dDdt"
      ],
      "execution_count": 0,
      "outputs": []
    },
    {
      "cell_type": "code",
      "metadata": {
        "id": "IYWWnsk7fOhN",
        "colab_type": "code",
        "colab": {}
      },
      "source": [
        "N = 1352600000\n",
        "D = 20.0               #infections lasts days\n",
        "gamma = 1.0 / D\n",
        "delta = 1.0              # incubation period of five days\n",
        "epsilon = 0.95           # being a symptomatic and (1-epsilon) asymptomatic\n",
        "R_0 = 10.0   \n",
        "beta = R_0 * gamma       # R_0 = beta / gamma, so beta = R_0 * gamma\n",
        "alpha = 0.1            # death rate\n",
        "rho = 1/30                # 30 days from infection until death\n",
        "phi = 1.0 / 7.0          # 5 days approx carrier period before recovery\n",
        "lambda1 = 1.0 / 7.0      # 7 days infection period\n",
        "S0, E0, C0, I0, R0, D0 = N-31-1000-500000, 500000, 1000, 31, 0, 0    # initial conditions of 10 march."
      ],
      "execution_count": 0,
      "outputs": []
    },
    {
      "cell_type": "code",
      "metadata": {
        "id": "t-55wjj5fSSN",
        "colab_type": "code",
        "colab": {}
      },
      "source": [
        "\n",
        "t = np.linspace(0, 15, 15)     # Grid of time points (in days)\n",
        "y0 = S0, E0, C0, I0, R0, D0      # Initial conditions vector\n",
        "\n",
        "# Integrate the SIR equations over the time grid, t.\n",
        "ret = odeint(deriv, y0, t, args=(N, beta, delta, phi, epsilon, gamma, alpha, rho, lambda1))\n",
        "S, E, C, I, R, D = ret.T\n"
      ],
      "execution_count": 0,
      "outputs": []
    },
    {
      "cell_type": "code",
      "metadata": {
        "id": "1Tzrsu58fVFM",
        "colab_type": "code",
        "outputId": "cc264b84-89ef-48e7-b86b-c8a50bea7a0e",
        "colab": {
          "base_uri": "https://localhost:8080/",
          "height": 341
        }
      },
      "source": [
        "f, ax = plt.subplots(1,1,figsize=(20,5))\n",
        "# ax.plot(t, S, 'b', alpha=0.7, linewidth=2, label='Susceptible')\n",
        "# ax.plot(t, E, 'y', alpha=0.7, linewidth=2, label='Exposed')\n",
        "ax.plot(t, C, 'darkmagenta', alpha=0.7, linewidth=2, label='Carrier')\n",
        "ax.plot(t, I, 'r', alpha=0.7, linewidth=2, label='Infected')\n",
        "ax.plot(t, R, 'g', alpha=0.7, linewidth=2, label='Recovered')\n",
        "ax.plot(t, D, 'k', alpha=0.7, linewidth=2, label='Dead')\n",
        "\n",
        "\n",
        "ax.set_xlabel('Time (days)')\n",
        "\n",
        "ax.yaxis.set_tick_params(length=0)\n",
        "ax.xaxis.set_tick_params(length=0)\n",
        "ax.grid(b=True, which='major', c='w', lw=2, ls='-')\n",
        "legend = ax.legend()\n",
        "legend.get_frame().set_alpha(0.5)\n",
        "for spine in ('top', 'right', 'bottom', 'left'):\n",
        "    ax.spines[spine].set_visible(False)\n",
        "plt.show()    "
      ],
      "execution_count": 28,
      "outputs": [
        {
          "output_type": "display_data",
          "data": {
            "image/png": "[encoded data removed]",
            "text/plain": [
              "<Figure size 1440x360 with 1 Axes>"
            ]
          },
          "metadata": {
            "tags": [],
            "needs_background": "light"
          }
        }
      ]
    },
    {
      "cell_type": "code",
      "metadata": {
        "id": "atP48eo3fZwC",
        "colab_type": "code",
        "colab": {}
      },
      "source": [
        ""
      ],
      "execution_count": 0,
      "outputs": []
    }
  ]
}