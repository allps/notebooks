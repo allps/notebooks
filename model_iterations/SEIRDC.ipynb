{
  "nbformat": 4,
  "nbformat_minor": 0,
  "metadata": {
    "colab": {
      "name": "Untitled4.ipynb",
      "provenance": [],
      "collapsed_sections": []
    },
    "kernelspec": {
      "name": "python3",
      "display_name": "Python 3"
    }
  },
  "cells": [
    {
      "cell_type": "code",
      "metadata": {
        "id": "vPRF-eu0_3yB",
        "colab_type": "code",
        "colab": {}
      },
      "source": [
        "import numpy as np\n",
        "from scipy.integrate import odeint\n",
        "import matplotlib.pyplot as plt"
      ],
      "execution_count": 0,
      "outputs": []
    },
    {
      "cell_type": "code",
      "metadata": {
        "id": "opVNrAyK_5C3",
        "colab_type": "code",
        "colab": {}
      },
      "source": [
        "N = 10000\n",
        "beta = 5.0/4.0        # R_0 / gamma\n",
        "D = 4.0               # infections lasts four days\n",
        "gamma = 1.0 / D\n",
        "alpha = 0.2           # 10% death rate\n",
        "rho = 1.0/9.0             # 9 days from infection until death\n",
        "epselon = 0.5\n",
        "delta = 1.0 / 5.0     # incubation period of five days\n",
        "S0, E0, I0 , R0, D0, C0= N-2, 1, 0, 0,0, 1 "
      ],
      "execution_count": 0,
      "outputs": []
    },
    {
      "cell_type": "code",
      "metadata": {
        "id": "_kUEUH4jACkC",
        "colab_type": "code",
        "colab": {}
      },
      "source": [
        "def model(Y,t,N, beta,gamma, alpha, epselon):\n",
        "    S, E,I, R, D, C= Y\n",
        "    dSdt = -beta * S * I / N\n",
        "    dEdt = beta * S * I / N - delta * E\n",
        "    dIdt = delta*E*epselon - (1-alpha) * gamma * I - alpha * rho * I - alpha * rho * C - (1-alpha) * gamma *C \n",
        "    dRdt = gamma * I* (1-alpha) + (1-alpha)* gamma *C\n",
        "    dDdt = alpha* rho *I + alpha * rho * C\n",
        "    dCdt = (1-epselon)*E- (1-alpha) * gamma * I - (1-alpha)* gamma *C - alpha * rho * I - alpha * rho * C\n",
        "    return dSdt,dEdt, dIdt, dRdt, dDdt, dCdt"
      ],
      "execution_count": 0,
      "outputs": []
    },
    {
      "cell_type": "code",
      "metadata": {
        "id": "9f6SLWT5AeKF",
        "colab_type": "code",
        "colab": {}
      },
      "source": [
        "t = np.linspace(0,100, 100)\n",
        "y0 = S0,E0, I0, R0,D0, C0"
      ],
      "execution_count": 0,
      "outputs": []
    },
    {
      "cell_type": "code",
      "metadata": {
        "id": "D_bz1VWrAhrr",
        "colab_type": "code",
        "colab": {}
      },
      "source": [
        "y = odeint(model,y0,t, args=(N, beta, gamma,  alpha, epselon))"
      ],
      "execution_count": 0,
      "outputs": []
    },
    {
      "cell_type": "code",
      "metadata": {
        "id": "-l-zJFQWAkQR",
        "colab_type": "code",
        "colab": {
          "base_uri": "https://localhost:8080/",
          "height": 281
        },
        "outputId": "e4da31d2-5264-49ec-e287-46517e1f1524"
      },
      "source": [
        "S, E,I, R,D,C = y.T\n",
        "plt.plot(t,S,'r-',linewidth=2,label='susceptible')\n",
        "plt.plot(t, E,'b-',linewidth=2,label='exposed')\n",
        "plt.plot(t,I,'g-',linewidth=2,label='infected')\n",
        "plt.plot(t,R,'y-',linewidth=2,label='recovered')\n",
        "plt.plot(t,D,'black',linewidth=2,label='dead')\n",
        "plt.plot(t,C,'cyan',linewidth=2,label='carrier')\n",
        "plt.xlabel('time')\n",
        "plt.legend()\n",
        "plt.show()"
      ],
      "execution_count": 57,
      "outputs": [
        {
          "output_type": "display_data",
          "data": {
            "image/png": "[encoded data removed]",
            "text/plain": [
              "<Figure size 432x288 with 1 Axes>"
            ]
          },
          "metadata": {
            "tags": [],
            "needs_background": "light"
          }
        }
      ]
    },
    {
      "cell_type": "code",
      "metadata": {
        "id": "-aHH_AW9Am6B",
        "colab_type": "code",
        "colab": {}
      },
      "source": [
        ""
      ],
      "execution_count": 0,
      "outputs": []
    }
  ]
}