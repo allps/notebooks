{
 "cells": [
  {
   "cell_type": "code",
   "execution_count": 1,
   "metadata": {},
   "outputs": [],
   "source": [
    "import numpy as np\n",
    "import pandas as pd\n",
    "pd.options.mode.chained_assignment = None  # default='warn'\n",
    "\n",
    "import matplotlib.pyplot as plt\n",
    "import matplotlib.dates as mdates\n",
    "import mpld3\n",
    "mpld3.enable_notebook()\n",
    "from scipy.integrate import odeint\n",
    "import lmfit\n",
    "from lmfit.lineshapes import gaussian, lorentzian\n",
    "\n",
    "import warnings\n",
    "warnings.filterwarnings('ignore')"
   ]
  },
  {
   "cell_type": "code",
   "execution_count": 2,
   "metadata": {},
   "outputs": [],
   "source": [
    "covid_data = pd.read_csv('https://raw.githubusercontent.com/CSSEGISandData/COVID-19/master/csse_covid_19_data/csse_covid_19_time_series/time_series_covid19_confirmed_global.csv')"
   ]
  },
  {
   "cell_type": "code",
   "execution_count": 3,
   "metadata": {},
   "outputs": [
    {
     "data": {
      "text/html": [
       "<div>\n",
       "<style scoped>\n",
       "    .dataframe tbody tr th:only-of-type {\n",
       "        vertical-align: middle;\n",
       "    }\n",
       "\n",
       "    .dataframe tbody tr th {\n",
       "        vertical-align: top;\n",
       "    }\n",
       "\n",
       "    .dataframe thead th {\n",
       "        text-align: right;\n",
       "    }\n",
       "</style>\n",
       "<table border=\"1\" class=\"dataframe\">\n",
       "  <thead>\n",
       "    <tr style=\"text-align: right;\">\n",
       "      <th></th>\n",
       "      <th>Province/State</th>\n",
       "      <th>Country/Region</th>\n",
       "      <th>Lat</th>\n",
       "      <th>Long</th>\n",
       "      <th>1/22/20</th>\n",
       "      <th>1/23/20</th>\n",
       "      <th>1/24/20</th>\n",
       "      <th>1/25/20</th>\n",
       "      <th>1/26/20</th>\n",
       "      <th>1/27/20</th>\n",
       "      <th>...</th>\n",
       "      <th>5/8/20</th>\n",
       "      <th>5/9/20</th>\n",
       "      <th>5/10/20</th>\n",
       "      <th>5/11/20</th>\n",
       "      <th>5/12/20</th>\n",
       "      <th>5/13/20</th>\n",
       "      <th>5/14/20</th>\n",
       "      <th>5/15/20</th>\n",
       "      <th>5/16/20</th>\n",
       "      <th>5/17/20</th>\n",
       "    </tr>\n",
       "  </thead>\n",
       "  <tbody>\n",
       "    <tr>\n",
       "      <th>0</th>\n",
       "      <td>NaN</td>\n",
       "      <td>Afghanistan</td>\n",
       "      <td>33.0000</td>\n",
       "      <td>65.0000</td>\n",
       "      <td>0</td>\n",
       "      <td>0</td>\n",
       "      <td>0</td>\n",
       "      <td>0</td>\n",
       "      <td>0</td>\n",
       "      <td>0</td>\n",
       "      <td>...</td>\n",
       "      <td>3778</td>\n",
       "      <td>4033</td>\n",
       "      <td>4402</td>\n",
       "      <td>4687</td>\n",
       "      <td>4963</td>\n",
       "      <td>5226</td>\n",
       "      <td>5639</td>\n",
       "      <td>6053</td>\n",
       "      <td>6402</td>\n",
       "      <td>6664</td>\n",
       "    </tr>\n",
       "    <tr>\n",
       "      <th>1</th>\n",
       "      <td>NaN</td>\n",
       "      <td>Albania</td>\n",
       "      <td>41.1533</td>\n",
       "      <td>20.1683</td>\n",
       "      <td>0</td>\n",
       "      <td>0</td>\n",
       "      <td>0</td>\n",
       "      <td>0</td>\n",
       "      <td>0</td>\n",
       "      <td>0</td>\n",
       "      <td>...</td>\n",
       "      <td>850</td>\n",
       "      <td>856</td>\n",
       "      <td>868</td>\n",
       "      <td>872</td>\n",
       "      <td>876</td>\n",
       "      <td>880</td>\n",
       "      <td>898</td>\n",
       "      <td>916</td>\n",
       "      <td>933</td>\n",
       "      <td>946</td>\n",
       "    </tr>\n",
       "    <tr>\n",
       "      <th>2</th>\n",
       "      <td>NaN</td>\n",
       "      <td>Algeria</td>\n",
       "      <td>28.0339</td>\n",
       "      <td>1.6596</td>\n",
       "      <td>0</td>\n",
       "      <td>0</td>\n",
       "      <td>0</td>\n",
       "      <td>0</td>\n",
       "      <td>0</td>\n",
       "      <td>0</td>\n",
       "      <td>...</td>\n",
       "      <td>5369</td>\n",
       "      <td>5558</td>\n",
       "      <td>5723</td>\n",
       "      <td>5891</td>\n",
       "      <td>6067</td>\n",
       "      <td>6253</td>\n",
       "      <td>6442</td>\n",
       "      <td>6629</td>\n",
       "      <td>6821</td>\n",
       "      <td>7019</td>\n",
       "    </tr>\n",
       "    <tr>\n",
       "      <th>3</th>\n",
       "      <td>NaN</td>\n",
       "      <td>Andorra</td>\n",
       "      <td>42.5063</td>\n",
       "      <td>1.5218</td>\n",
       "      <td>0</td>\n",
       "      <td>0</td>\n",
       "      <td>0</td>\n",
       "      <td>0</td>\n",
       "      <td>0</td>\n",
       "      <td>0</td>\n",
       "      <td>...</td>\n",
       "      <td>752</td>\n",
       "      <td>754</td>\n",
       "      <td>755</td>\n",
       "      <td>755</td>\n",
       "      <td>758</td>\n",
       "      <td>760</td>\n",
       "      <td>761</td>\n",
       "      <td>761</td>\n",
       "      <td>761</td>\n",
       "      <td>761</td>\n",
       "    </tr>\n",
       "    <tr>\n",
       "      <th>4</th>\n",
       "      <td>NaN</td>\n",
       "      <td>Angola</td>\n",
       "      <td>-11.2027</td>\n",
       "      <td>17.8739</td>\n",
       "      <td>0</td>\n",
       "      <td>0</td>\n",
       "      <td>0</td>\n",
       "      <td>0</td>\n",
       "      <td>0</td>\n",
       "      <td>0</td>\n",
       "      <td>...</td>\n",
       "      <td>43</td>\n",
       "      <td>43</td>\n",
       "      <td>45</td>\n",
       "      <td>45</td>\n",
       "      <td>45</td>\n",
       "      <td>45</td>\n",
       "      <td>48</td>\n",
       "      <td>48</td>\n",
       "      <td>48</td>\n",
       "      <td>48</td>\n",
       "    </tr>\n",
       "  </tbody>\n",
       "</table>\n",
       "<p>5 rows × 121 columns</p>\n",
       "</div>"
      ],
      "text/plain": [
       "  Province/State Country/Region      Lat     Long  1/22/20  1/23/20  1/24/20  \\\n",
       "0            NaN    Afghanistan  33.0000  65.0000        0        0        0   \n",
       "1            NaN        Albania  41.1533  20.1683        0        0        0   \n",
       "2            NaN        Algeria  28.0339   1.6596        0        0        0   \n",
       "3            NaN        Andorra  42.5063   1.5218        0        0        0   \n",
       "4            NaN         Angola -11.2027  17.8739        0        0        0   \n",
       "\n",
       "   1/25/20  1/26/20  1/27/20  ...  5/8/20  5/9/20  5/10/20  5/11/20  5/12/20  \\\n",
       "0        0        0        0  ...    3778    4033     4402     4687     4963   \n",
       "1        0        0        0  ...     850     856      868      872      876   \n",
       "2        0        0        0  ...    5369    5558     5723     5891     6067   \n",
       "3        0        0        0  ...     752     754      755      755      758   \n",
       "4        0        0        0  ...      43      43       45       45       45   \n",
       "\n",
       "   5/13/20  5/14/20  5/15/20  5/16/20  5/17/20  \n",
       "0     5226     5639     6053     6402     6664  \n",
       "1      880      898      916      933      946  \n",
       "2     6253     6442     6629     6821     7019  \n",
       "3      760      761      761      761      761  \n",
       "4       45       48       48       48       48  \n",
       "\n",
       "[5 rows x 121 columns]"
      ]
     },
     "execution_count": 3,
     "metadata": {},
     "output_type": "execute_result"
    }
   ],
   "source": [
    "covid_data.head()"
   ]
  },
  {
   "cell_type": "code",
   "execution_count": 10,
   "metadata": {},
   "outputs": [],
   "source": [
    "covid_data.rename(columns={\"Country/Region\": \"Location\"}, inplace = True)"
   ]
  },
  {
   "cell_type": "code",
   "execution_count": 11,
   "metadata": {},
   "outputs": [
    {
     "data": {
      "text/html": [
       "<div>\n",
       "<style scoped>\n",
       "    .dataframe tbody tr th:only-of-type {\n",
       "        vertical-align: middle;\n",
       "    }\n",
       "\n",
       "    .dataframe tbody tr th {\n",
       "        vertical-align: top;\n",
       "    }\n",
       "\n",
       "    .dataframe thead th {\n",
       "        text-align: right;\n",
       "    }\n",
       "</style>\n",
       "<table border=\"1\" class=\"dataframe\">\n",
       "  <thead>\n",
       "    <tr style=\"text-align: right;\">\n",
       "      <th></th>\n",
       "      <th>Province/State</th>\n",
       "      <th>Location</th>\n",
       "      <th>Lat</th>\n",
       "      <th>Long</th>\n",
       "      <th>1/22/20</th>\n",
       "      <th>1/23/20</th>\n",
       "      <th>1/24/20</th>\n",
       "      <th>1/25/20</th>\n",
       "      <th>1/26/20</th>\n",
       "      <th>1/27/20</th>\n",
       "      <th>...</th>\n",
       "      <th>5/8/20</th>\n",
       "      <th>5/9/20</th>\n",
       "      <th>5/10/20</th>\n",
       "      <th>5/11/20</th>\n",
       "      <th>5/12/20</th>\n",
       "      <th>5/13/20</th>\n",
       "      <th>5/14/20</th>\n",
       "      <th>5/15/20</th>\n",
       "      <th>5/16/20</th>\n",
       "      <th>5/17/20</th>\n",
       "    </tr>\n",
       "  </thead>\n",
       "  <tbody>\n",
       "    <tr>\n",
       "      <th>131</th>\n",
       "      <td>NaN</td>\n",
       "      <td>India</td>\n",
       "      <td>21.0</td>\n",
       "      <td>78.0</td>\n",
       "      <td>0</td>\n",
       "      <td>0</td>\n",
       "      <td>0</td>\n",
       "      <td>0</td>\n",
       "      <td>0</td>\n",
       "      <td>0</td>\n",
       "      <td>...</td>\n",
       "      <td>59695</td>\n",
       "      <td>62808</td>\n",
       "      <td>67161</td>\n",
       "      <td>70768</td>\n",
       "      <td>74292</td>\n",
       "      <td>78055</td>\n",
       "      <td>81997</td>\n",
       "      <td>85784</td>\n",
       "      <td>90648</td>\n",
       "      <td>95698</td>\n",
       "    </tr>\n",
       "  </tbody>\n",
       "</table>\n",
       "<p>1 rows × 121 columns</p>\n",
       "</div>"
      ],
      "text/plain": [
       "    Province/State Location   Lat  Long  1/22/20  1/23/20  1/24/20  1/25/20  \\\n",
       "131            NaN    India  21.0  78.0        0        0        0        0   \n",
       "\n",
       "     1/26/20  1/27/20  ...  5/8/20  5/9/20  5/10/20  5/11/20  5/12/20  \\\n",
       "131        0        0  ...   59695   62808    67161    70768    74292   \n",
       "\n",
       "     5/13/20  5/14/20  5/15/20  5/16/20  5/17/20  \n",
       "131    78055    81997    85784    90648    95698  \n",
       "\n",
       "[1 rows x 121 columns]"
      ]
     },
     "execution_count": 11,
     "metadata": {},
     "output_type": "execute_result"
    }
   ],
   "source": [
    "covid_data_india = covid_data.loc[covid_data['Location'] == 'India']\n",
    "covid_data_india.head()"
   ]
  },
  {
   "cell_type": "code",
   "execution_count": 98,
   "metadata": {},
   "outputs": [
    {
     "data": {
      "text/plain": [
       "Text(0.5, 0, 'Date')"
      ]
     },
     "execution_count": 98,
     "metadata": {},
     "output_type": "execute_result"
    },
    {
     "data": {
      "image/png": "[encoded data removed]",
      "text/html": [
       "\n",
       "\n",
       "<style>\n",
       "\n",
       "</style>\n",
       "\n",
       "<div id=\"fig_el1466018034380275284735862597\"></div>\n",
       "<script>\n",
       "function mpld3_load_lib(url, callback){\n",
       "  var s = document.createElement('script');\n",
       "  s.src = url;\n",
       "  s.async = true;\n",
       "  s.onreadystatechange = s.onload = callback;\n",
       "  s.onerror = function(){console.warn(\"failed to load library \" + url);};\n",
       "  document.getElementsByTagName(\"head\")[0].appendChild(s);\n",
       "}\n",
       "\n",
       "if(typeof(mpld3) !== \"undefined\" && mpld3._mpld3IsLoaded){\n",
       "   // already loaded: just create the figure\n",
       "   !function(mpld3){\n",
       "       \n",
       "       mpld3.draw_figure(\"fig_el1466018034380275284735862597\", {\"width\": 720.0, \"height\": 432.0, \"axes\": [{\"bbox\": [0.125, 0.125, 0.775, 0.755], \"xlim\": [-5.800000000000001, 121.8], \"ylim\": [-4784.900000000001, 100482.9], \"xdomain\": [-5.800000000000001, 121.8], \"ydomain\": [-4784.900000000001, 100482.9], \"xscale\": \"linear\", \"yscale\": \"linear\", \"axes\": [{\"position\": \"bottom\", \"nticks\": 9, \"tickvalues\": null, \"tickformat\": null, \"scale\": \"linear\", \"fontsize\": 10.0, \"grid\": {\"gridOn\": false}, \"visible\": true}, {\"position\": \"left\", \"nticks\": 8, \"tickvalues\": null, \"tickformat\": null, \"scale\": \"linear\", \"fontsize\": 10.0, \"grid\": {\"gridOn\": false}, \"visible\": true}], \"axesbg\": \"#FFFFFF\", \"axesbgalpha\": null, \"zoomable\": true, \"id\": \"el146601803438028936\", \"lines\": [{\"data\": \"data01\", \"xindex\": 0, \"yindex\": 1, \"coordinates\": \"data\", \"id\": \"el146601803396735496\", \"color\": \"#1F77B4\", \"linewidth\": 1.5, \"dasharray\": \"none\", \"alpha\": 1, \"zorder\": 2, \"drawstyle\": \"default\"}], \"paths\": [], \"markers\": [], \"texts\": [{\"text\": \"Date\", \"position\": [0.5, -0.06438557763061073], \"coordinates\": \"axes\", \"h_anchor\": \"middle\", \"v_baseline\": \"hanging\", \"rotation\": -0.0, \"fontsize\": 10.0, \"color\": \"#000000\", \"alpha\": 1, \"zorder\": 3, \"id\": \"el146601803438256904\"}, {\"text\": \"Number of Patients\", \"position\": [-0.08826164874551971, 0.5], \"coordinates\": \"axes\", \"h_anchor\": \"middle\", \"v_baseline\": \"auto\", \"rotation\": -90.0, \"fontsize\": 10.0, \"color\": \"#000000\", \"alpha\": 1, \"zorder\": 3, \"id\": \"el146601803438290376\"}], \"collections\": [], \"images\": [], \"sharex\": [], \"sharey\": []}], \"data\": {\"data01\": [[0.0, 0.0], [1.0, 0.0], [2.0, 0.0], [3.0, 0.0], [4.0, 0.0], [5.0, 0.0], [6.0, 0.0], [7.0, 0.0], [8.0, 1.0], [9.0, 1.0], [10.0, 1.0], [11.0, 2.0], [12.0, 3.0], [13.0, 3.0], [14.0, 3.0], [15.0, 3.0], [16.0, 3.0], [17.0, 3.0], [18.0, 3.0], [19.0, 3.0], [20.0, 3.0], [21.0, 3.0], [22.0, 3.0], [23.0, 3.0], [24.0, 3.0], [25.0, 3.0], [26.0, 3.0], [27.0, 3.0], [28.0, 3.0], [29.0, 3.0], [30.0, 3.0], [31.0, 3.0], [32.0, 3.0], [33.0, 3.0], [34.0, 3.0], [35.0, 3.0], [36.0, 3.0], [37.0, 3.0], [38.0, 3.0], [39.0, 3.0], [40.0, 5.0], [41.0, 5.0], [42.0, 28.0], [43.0, 30.0], [44.0, 31.0], [45.0, 34.0], [46.0, 39.0], [47.0, 43.0], [48.0, 56.0], [49.0, 62.0], [50.0, 73.0], [51.0, 82.0], [52.0, 102.0], [53.0, 113.0], [54.0, 119.0], [55.0, 142.0], [56.0, 156.0], [57.0, 194.0], [58.0, 244.0], [59.0, 330.0], [60.0, 396.0], [61.0, 499.0], [62.0, 536.0], [63.0, 657.0], [64.0, 727.0], [65.0, 887.0], [66.0, 987.0], [67.0, 1024.0], [68.0, 1251.0], [69.0, 1397.0], [70.0, 1998.0], [71.0, 2543.0], [72.0, 2567.0], [73.0, 3082.0], [74.0, 3588.0], [75.0, 4778.0], [76.0, 5311.0], [77.0, 5916.0], [78.0, 6725.0], [79.0, 7598.0], [80.0, 8446.0], [81.0, 9205.0], [82.0, 10453.0], [83.0, 11487.0], [84.0, 12322.0], [85.0, 13430.0], [86.0, 14352.0], [87.0, 15722.0], [88.0, 17615.0], [89.0, 18539.0], [90.0, 20080.0], [91.0, 21370.0], [92.0, 23077.0], [93.0, 24530.0], [94.0, 26283.0], [95.0, 27890.0], [96.0, 29451.0], [97.0, 31324.0], [98.0, 33062.0], [99.0, 34863.0], [100.0, 37257.0], [101.0, 39699.0], [102.0, 42505.0], [103.0, 46437.0], [104.0, 49400.0], [105.0, 52987.0], [106.0, 56351.0], [107.0, 59695.0], [108.0, 62808.0], [109.0, 67161.0], [110.0, 70768.0], [111.0, 74292.0], [112.0, 78055.0], [113.0, 81997.0], [114.0, 85784.0], [115.0, 90648.0], [116.0, 95698.0]]}, \"id\": \"el146601803438027528\", \"plugins\": [{\"type\": \"reset\"}, {\"type\": \"zoom\", \"button\": true, \"enabled\": false}, {\"type\": \"boxzoom\", \"button\": true, \"enabled\": false}]});\n",
       "   }(mpld3);\n",
       "}else if(typeof define === \"function\" && define.amd){\n",
       "   // require.js is available: use it to load d3/mpld3\n",
       "   require.config({paths: {d3: \"https://mpld3.github.io/js/d3.v3.min\"}});\n",
       "   require([\"d3\"], function(d3){\n",
       "      window.d3 = d3;\n",
       "      mpld3_load_lib(\"https://mpld3.github.io/js/mpld3.v0.3.js\", function(){\n",
       "         \n",
       "         mpld3.draw_figure(\"fig_el1466018034380275284735862597\", {\"width\": 720.0, \"height\": 432.0, \"axes\": [{\"bbox\": [0.125, 0.125, 0.775, 0.755], \"xlim\": [-5.800000000000001, 121.8], \"ylim\": [-4784.900000000001, 100482.9], \"xdomain\": [-5.800000000000001, 121.8], \"ydomain\": [-4784.900000000001, 100482.9], \"xscale\": \"linear\", \"yscale\": \"linear\", \"axes\": [{\"position\": \"bottom\", \"nticks\": 9, \"tickvalues\": null, \"tickformat\": null, \"scale\": \"linear\", \"fontsize\": 10.0, \"grid\": {\"gridOn\": false}, \"visible\": true}, {\"position\": \"left\", \"nticks\": 8, \"tickvalues\": null, \"tickformat\": null, \"scale\": \"linear\", \"fontsize\": 10.0, \"grid\": {\"gridOn\": false}, \"visible\": true}], \"axesbg\": \"#FFFFFF\", \"axesbgalpha\": null, \"zoomable\": true, \"id\": \"el146601803438028936\", \"lines\": [{\"data\": \"data01\", \"xindex\": 0, \"yindex\": 1, \"coordinates\": \"data\", \"id\": \"el146601803396735496\", \"color\": \"#1F77B4\", \"linewidth\": 1.5, \"dasharray\": \"none\", \"alpha\": 1, \"zorder\": 2, \"drawstyle\": \"default\"}], \"paths\": [], \"markers\": [], \"texts\": [{\"text\": \"Date\", \"position\": [0.5, -0.06438557763061073], \"coordinates\": \"axes\", \"h_anchor\": \"middle\", \"v_baseline\": \"hanging\", \"rotation\": -0.0, \"fontsize\": 10.0, \"color\": \"#000000\", \"alpha\": 1, \"zorder\": 3, \"id\": \"el146601803438256904\"}, {\"text\": \"Number of Patients\", \"position\": [-0.08826164874551971, 0.5], \"coordinates\": \"axes\", \"h_anchor\": \"middle\", \"v_baseline\": \"auto\", \"rotation\": -90.0, \"fontsize\": 10.0, \"color\": \"#000000\", \"alpha\": 1, \"zorder\": 3, \"id\": \"el146601803438290376\"}], \"collections\": [], \"images\": [], \"sharex\": [], \"sharey\": []}], \"data\": {\"data01\": [[0.0, 0.0], [1.0, 0.0], [2.0, 0.0], [3.0, 0.0], [4.0, 0.0], [5.0, 0.0], [6.0, 0.0], [7.0, 0.0], [8.0, 1.0], [9.0, 1.0], [10.0, 1.0], [11.0, 2.0], [12.0, 3.0], [13.0, 3.0], [14.0, 3.0], [15.0, 3.0], [16.0, 3.0], [17.0, 3.0], [18.0, 3.0], [19.0, 3.0], [20.0, 3.0], [21.0, 3.0], [22.0, 3.0], [23.0, 3.0], [24.0, 3.0], [25.0, 3.0], [26.0, 3.0], [27.0, 3.0], [28.0, 3.0], [29.0, 3.0], [30.0, 3.0], [31.0, 3.0], [32.0, 3.0], [33.0, 3.0], [34.0, 3.0], [35.0, 3.0], [36.0, 3.0], [37.0, 3.0], [38.0, 3.0], [39.0, 3.0], [40.0, 5.0], [41.0, 5.0], [42.0, 28.0], [43.0, 30.0], [44.0, 31.0], [45.0, 34.0], [46.0, 39.0], [47.0, 43.0], [48.0, 56.0], [49.0, 62.0], [50.0, 73.0], [51.0, 82.0], [52.0, 102.0], [53.0, 113.0], [54.0, 119.0], [55.0, 142.0], [56.0, 156.0], [57.0, 194.0], [58.0, 244.0], [59.0, 330.0], [60.0, 396.0], [61.0, 499.0], [62.0, 536.0], [63.0, 657.0], [64.0, 727.0], [65.0, 887.0], [66.0, 987.0], [67.0, 1024.0], [68.0, 1251.0], [69.0, 1397.0], [70.0, 1998.0], [71.0, 2543.0], [72.0, 2567.0], [73.0, 3082.0], [74.0, 3588.0], [75.0, 4778.0], [76.0, 5311.0], [77.0, 5916.0], [78.0, 6725.0], [79.0, 7598.0], [80.0, 8446.0], [81.0, 9205.0], [82.0, 10453.0], [83.0, 11487.0], [84.0, 12322.0], [85.0, 13430.0], [86.0, 14352.0], [87.0, 15722.0], [88.0, 17615.0], [89.0, 18539.0], [90.0, 20080.0], [91.0, 21370.0], [92.0, 23077.0], [93.0, 24530.0], [94.0, 26283.0], [95.0, 27890.0], [96.0, 29451.0], [97.0, 31324.0], [98.0, 33062.0], [99.0, 34863.0], [100.0, 37257.0], [101.0, 39699.0], [102.0, 42505.0], [103.0, 46437.0], [104.0, 49400.0], [105.0, 52987.0], [106.0, 56351.0], [107.0, 59695.0], [108.0, 62808.0], [109.0, 67161.0], [110.0, 70768.0], [111.0, 74292.0], [112.0, 78055.0], [113.0, 81997.0], [114.0, 85784.0], [115.0, 90648.0], [116.0, 95698.0]]}, \"id\": \"el146601803438027528\", \"plugins\": [{\"type\": \"reset\"}, {\"type\": \"zoom\", \"button\": true, \"enabled\": false}, {\"type\": \"boxzoom\", \"button\": true, \"enabled\": false}]});\n",
       "      });\n",
       "    });\n",
       "}else{\n",
       "    // require.js not available: dynamically load d3 & mpld3\n",
       "    mpld3_load_lib(\"https://mpld3.github.io/js/d3.v3.min.js\", function(){\n",
       "         mpld3_load_lib(\"https://mpld3.github.io/js/mpld3.v0.3.js\", function(){\n",
       "                 \n",
       "                 mpld3.draw_figure(\"fig_el1466018034380275284735862597\", {\"width\": 720.0, \"height\": 432.0, \"axes\": [{\"bbox\": [0.125, 0.125, 0.775, 0.755], \"xlim\": [-5.800000000000001, 121.8], \"ylim\": [-4784.900000000001, 100482.9], \"xdomain\": [-5.800000000000001, 121.8], \"ydomain\": [-4784.900000000001, 100482.9], \"xscale\": \"linear\", \"yscale\": \"linear\", \"axes\": [{\"position\": \"bottom\", \"nticks\": 9, \"tickvalues\": null, \"tickformat\": null, \"scale\": \"linear\", \"fontsize\": 10.0, \"grid\": {\"gridOn\": false}, \"visible\": true}, {\"position\": \"left\", \"nticks\": 8, \"tickvalues\": null, \"tickformat\": null, \"scale\": \"linear\", \"fontsize\": 10.0, \"grid\": {\"gridOn\": false}, \"visible\": true}], \"axesbg\": \"#FFFFFF\", \"axesbgalpha\": null, \"zoomable\": true, \"id\": \"el146601803438028936\", \"lines\": [{\"data\": \"data01\", \"xindex\": 0, \"yindex\": 1, \"coordinates\": \"data\", \"id\": \"el146601803396735496\", \"color\": \"#1F77B4\", \"linewidth\": 1.5, \"dasharray\": \"none\", \"alpha\": 1, \"zorder\": 2, \"drawstyle\": \"default\"}], \"paths\": [], \"markers\": [], \"texts\": [{\"text\": \"Date\", \"position\": [0.5, -0.06438557763061073], \"coordinates\": \"axes\", \"h_anchor\": \"middle\", \"v_baseline\": \"hanging\", \"rotation\": -0.0, \"fontsize\": 10.0, \"color\": \"#000000\", \"alpha\": 1, \"zorder\": 3, \"id\": \"el146601803438256904\"}, {\"text\": \"Number of Patients\", \"position\": [-0.08826164874551971, 0.5], \"coordinates\": \"axes\", \"h_anchor\": \"middle\", \"v_baseline\": \"auto\", \"rotation\": -90.0, \"fontsize\": 10.0, \"color\": \"#000000\", \"alpha\": 1, \"zorder\": 3, \"id\": \"el146601803438290376\"}], \"collections\": [], \"images\": [], \"sharex\": [], \"sharey\": []}], \"data\": {\"data01\": [[0.0, 0.0], [1.0, 0.0], [2.0, 0.0], [3.0, 0.0], [4.0, 0.0], [5.0, 0.0], [6.0, 0.0], [7.0, 0.0], [8.0, 1.0], [9.0, 1.0], [10.0, 1.0], [11.0, 2.0], [12.0, 3.0], [13.0, 3.0], [14.0, 3.0], [15.0, 3.0], [16.0, 3.0], [17.0, 3.0], [18.0, 3.0], [19.0, 3.0], [20.0, 3.0], [21.0, 3.0], [22.0, 3.0], [23.0, 3.0], [24.0, 3.0], [25.0, 3.0], [26.0, 3.0], [27.0, 3.0], [28.0, 3.0], [29.0, 3.0], [30.0, 3.0], [31.0, 3.0], [32.0, 3.0], [33.0, 3.0], [34.0, 3.0], [35.0, 3.0], [36.0, 3.0], [37.0, 3.0], [38.0, 3.0], [39.0, 3.0], [40.0, 5.0], [41.0, 5.0], [42.0, 28.0], [43.0, 30.0], [44.0, 31.0], [45.0, 34.0], [46.0, 39.0], [47.0, 43.0], [48.0, 56.0], [49.0, 62.0], [50.0, 73.0], [51.0, 82.0], [52.0, 102.0], [53.0, 113.0], [54.0, 119.0], [55.0, 142.0], [56.0, 156.0], [57.0, 194.0], [58.0, 244.0], [59.0, 330.0], [60.0, 396.0], [61.0, 499.0], [62.0, 536.0], [63.0, 657.0], [64.0, 727.0], [65.0, 887.0], [66.0, 987.0], [67.0, 1024.0], [68.0, 1251.0], [69.0, 1397.0], [70.0, 1998.0], [71.0, 2543.0], [72.0, 2567.0], [73.0, 3082.0], [74.0, 3588.0], [75.0, 4778.0], [76.0, 5311.0], [77.0, 5916.0], [78.0, 6725.0], [79.0, 7598.0], [80.0, 8446.0], [81.0, 9205.0], [82.0, 10453.0], [83.0, 11487.0], [84.0, 12322.0], [85.0, 13430.0], [86.0, 14352.0], [87.0, 15722.0], [88.0, 17615.0], [89.0, 18539.0], [90.0, 20080.0], [91.0, 21370.0], [92.0, 23077.0], [93.0, 24530.0], [94.0, 26283.0], [95.0, 27890.0], [96.0, 29451.0], [97.0, 31324.0], [98.0, 33062.0], [99.0, 34863.0], [100.0, 37257.0], [101.0, 39699.0], [102.0, 42505.0], [103.0, 46437.0], [104.0, 49400.0], [105.0, 52987.0], [106.0, 56351.0], [107.0, 59695.0], [108.0, 62808.0], [109.0, 67161.0], [110.0, 70768.0], [111.0, 74292.0], [112.0, 78055.0], [113.0, 81997.0], [114.0, 85784.0], [115.0, 90648.0], [116.0, 95698.0]]}, \"id\": \"el146601803438027528\", \"plugins\": [{\"type\": \"reset\"}, {\"type\": \"zoom\", \"button\": true, \"enabled\": false}, {\"type\": \"boxzoom\", \"button\": true, \"enabled\": false}]});\n",
       "            })\n",
       "         });\n",
       "}\n",
       "</script>"
      ],
      "text/plain": [
       "<Figure size 720x432 with 1 Axes>"
      ]
     },
     "metadata": {
      "needs_background": "light"
     },
     "output_type": "display_data"
    }
   ],
   "source": [
    "# covid_data_india.columns[4:].values\n",
    "\n",
    "# covid_india.to_numpy()[0]\n",
    "\n",
    "plt.figure(figsize=(10,6))\n",
    "plt.plot(covid_india.to_numpy()[0])\n",
    "plt.ylabel(\"Number of Patients\")\n",
    "plt.xlabel(\"Date\")"
   ]
  },
  {
   "cell_type": "code",
   "execution_count": 5,
   "metadata": {},
   "outputs": [],
   "source": [
    "beds = pd.read_csv(\"https://raw.githubusercontent.com/hf2000510/infectious_disease_modelling/master/data/beds.csv\", header=0)\n",
    "agegroups = pd.read_csv(\"https://raw.githubusercontent.com/hf2000510/infectious_disease_modelling/master/data/agegroups.csv\")\n",
    "probabilities = pd.read_csv(\"https://raw.githubusercontent.com/hf2000510/infectious_disease_modelling/master/data/probabilities.csv\")"
   ]
  },
  {
   "cell_type": "code",
   "execution_count": 6,
   "metadata": {},
   "outputs": [],
   "source": [
    "beds_lookup = dict(zip(beds[\"Country\"], beds[\"ICU_Beds\"]))\n",
    "agegroup_lookup = dict(zip(agegroups['Location'], agegroups[['0_9', '10_19', '20_29', '30_39', '40_49', '50_59', '60_69', '70_79', '80_89', '90_100']].values))\n",
    "\n",
    "prob_I_to_C_1 = list(probabilities.prob_I_to_ICU_1.values)\n",
    "prob_I_to_C_2 = list(probabilities.prob_I_to_ICU_2.values)\n",
    "prob_C_to_Death_1 = list(probabilities.prob_ICU_to_Death_1.values)\n",
    "prob_C_to_Death_2 = list(probabilities.prob_ICU_to_Death_2.values)"
   ]
  },
  {
   "cell_type": "code",
   "execution_count": 7,
   "metadata": {},
   "outputs": [],
   "source": [
    "def deriv(y, t, beta, gamma, sigma, N, p_I_to_C, p_C_to_D, Beds):\n",
    "    S, E, I, C, R, D = y\n",
    "\n",
    "    dSdt = -beta(t) * I * S / N\n",
    "    dEdt = beta(t) * I * S / N - sigma * E\n",
    "    dIdt = sigma * E - 1/12.0 * p_I_to_C * I - gamma * (1 - p_I_to_C) * I\n",
    "    dCdt = 1/12.0 * p_I_to_C * I - 1/7.5 * p_C_to_D * min(Beds(t), C) - max(0, C-Beds(t)) - (1 - p_C_to_D) * 1/6.5 * min(Beds(t), C)\n",
    "    dRdt = gamma * (1 - p_I_to_C) * I + (1 - p_C_to_D) * 1/6.5 * min(Beds(t), C)\n",
    "    dDdt = 1/7.5 * p_C_to_D * min(Beds(t), C) + max(0, C-Beds(t))\n",
    "    return dSdt, dEdt, dIdt, dCdt, dRdt, dDdt"
   ]
  },
  {
   "cell_type": "code",
   "execution_count": 8,
   "metadata": {},
   "outputs": [],
   "source": [
    "gamma = 1.0/9.0\n",
    "sigma = 1.0/3.0\n",
    "\n",
    "def logistic_R_0(t, R_0_start, k, x0, R_0_end):\n",
    "    return (R_0_start-R_0_end) / (1 + np.exp(-k*(-t+x0))) + R_0_end\n",
    "\n",
    "def Model(days, agegroups, beds_per_100k, R_0_start, k, x0, R_0_end, prob_I_to_C, prob_C_to_D, s):\n",
    "\n",
    "    def beta(t):\n",
    "        return logistic_R_0(t, R_0_start, k, x0, R_0_end) * gamma\n",
    "\n",
    "    N = sum(agegroups)\n",
    "    \n",
    "    def Beds(t):\n",
    "        beds_0 = beds_per_100k / 100_000 * N\n",
    "        return beds_0 + s*beds_0*t  # 0.003\n",
    "\n",
    "    y0 = N-1.0, 1.0, 0.0, 0.0, 0.0, 0.0\n",
    "    t = np.linspace(0, days-1, days)\n",
    "    ret = odeint(deriv, y0, t, args=(beta, gamma, sigma, N, prob_I_to_C, prob_C_to_D, Beds))\n",
    "    S, E, I, C, R, D = ret.T\n",
    "    R_0_over_time = [beta(i)/gamma for i in range(len(t))]\n",
    "\n",
    "    return t, S, E, I, C, R, D, R_0_over_time, Beds, prob_I_to_C, prob_C_to_D"
   ]
  },
  {
   "cell_type": "code",
   "execution_count": 28,
   "metadata": {},
   "outputs": [],
   "source": [
    "agegroups = agegroup_lookup[\"India\"]\n",
    "beds_per_100k = beds_lookup[\"India\"]\n",
    "outbreak_shift = 30\n",
    "params_init_min_max = {\"R_0_start\": (3.0, 2.0, 5.0), \"k\": (2.5, 0.01, 5.0), \"x0\": (90, 0, 120), \"R_0_end\": (0.9, 0.3, 3.5),\n",
    "                       \"prob_I_to_C\": (0.05, 0.01, 0.1), \"prob_C_to_D\": (0.5, 0.05, 0.8),\n",
    "                       \"s\": (0.003, 0.001, 0.01)}  # form: {parameter: (initial guess, minimum value, max value)}"
   ]
  },
  {
   "cell_type": "code",
   "execution_count": 31,
   "metadata": {},
   "outputs": [],
   "source": [
    "covid_india = covid_data[covid_data['Location'] == 'India']"
   ]
  },
  {
   "cell_type": "code",
   "execution_count": 32,
   "metadata": {},
   "outputs": [],
   "source": [
    "covid_india.drop(['Province/State', 'Location' , 'Lat', 'Long'], axis=1, inplace = True)"
   ]
  },
  {
   "cell_type": "code",
   "execution_count": 78,
   "metadata": {},
   "outputs": [],
   "source": [
    "data5 =covid_india.to_numpy()[0]"
   ]
  },
  {
   "cell_type": "code",
   "execution_count": 79,
   "metadata": {},
   "outputs": [
    {
     "data": {
      "text/plain": [
       "array([    0,     0,     0,     0,     0,     0,     0,     0,     1,\n",
       "           1,     1,     2,     3,     3,     3,     3,     3,     3,\n",
       "           3,     3,     3,     3,     3,     3,     3,     3,     3,\n",
       "           3,     3,     3,     3,     3,     3,     3,     3,     3,\n",
       "           3,     3,     3,     3,     5,     5,    28,    30,    31,\n",
       "          34,    39,    43,    56,    62,    73,    82,   102,   113,\n",
       "         119,   142,   156,   194,   244,   330,   396,   499,   536,\n",
       "         657,   727,   887,   987,  1024,  1251,  1397,  1998,  2543,\n",
       "        2567,  3082,  3588,  4778,  5311,  5916,  6725,  7598,  8446,\n",
       "        9205, 10453, 11487, 12322, 13430, 14352, 15722, 17615, 18539,\n",
       "       20080, 21370, 23077, 24530, 26283, 27890, 29451, 31324, 33062,\n",
       "       34863, 37257, 39699, 42505, 46437, 49400, 52987, 56351, 59695,\n",
       "       62808, 67161, 70768, 74292, 78055, 81997, 85784, 90648, 95698],\n",
       "      dtype=int64)"
      ]
     },
     "execution_count": 79,
     "metadata": {},
     "output_type": "execute_result"
    }
   ],
   "source": [
    "data5"
   ]
  },
  {
   "cell_type": "code",
   "execution_count": 80,
   "metadata": {},
   "outputs": [],
   "source": [
    "days = outbreak_shift + len(data5)\n",
    "if outbreak_shift >= 0:\n",
    "    y_data = np.concatenate((np.zeros(outbreak_shift), data5))\n",
    "else:\n",
    "    y_data = y_data[-outbreak_shift:]\n",
    "\n",
    "x_data = np.linspace(0, days - 1, days, dtype=int)  # x_data is just [0, 1, ..., max_days] array\n",
    "\n",
    "\n",
    "\n",
    "\n",
    "def fitter(x, R_0_start, k, x0, R_0_end, prob_I_to_C, prob_C_to_D, s):\n",
    "    ret = Model(days, agegroups, beds_per_100k, R_0_start, k, x0, R_0_end, prob_I_to_C, prob_C_to_D, s)\n",
    "    return ret[3][x]"
   ]
  },
  {
   "cell_type": "code",
   "execution_count": 81,
   "metadata": {},
   "outputs": [],
   "source": [
    "mod = lmfit.Model(fitter)\n",
    "\n",
    "for kwarg, (init, mini, maxi) in params_init_min_max.items():\n",
    "    mod.set_param_hint(str(kwarg), value=init, min=mini, max=maxi, vary=True)\n",
    "\n",
    "params = mod.make_params()\n",
    "fit_method = \"leastsq\""
   ]
  },
  {
   "cell_type": "code",
   "execution_count": 102,
   "metadata": {},
   "outputs": [
    {
     "data": {
      "text/plain": [
       "{'R_0_start': 2.2658939717552173,\n",
       " 'k': 0.2001852867067365,\n",
       " 'x0': 119.9999999999979,\n",
       " 'R_0_end': 1.7536087738149875,\n",
       " 'prob_I_to_C': 0.010000359926020283,\n",
       " 'prob_C_to_D': 0.2251346814775854,\n",
       " 's': 0.003}"
      ]
     },
     "execution_count": 102,
     "metadata": {},
     "output_type": "execute_result"
    },
    {
     "data": {
      "image/png": "[encoded data removed]",
      "text/html": [
       "\n",
       "\n",
       "<style>\n",
       "\n",
       "</style>\n",
       "\n",
       "<div id=\"fig_el1466018034373571289355466849\"></div>\n",
       "<script>\n",
       "function mpld3_load_lib(url, callback){\n",
       "  var s = document.createElement('script');\n",
       "  s.src = url;\n",
       "  s.async = true;\n",
       "  s.onreadystatechange = s.onload = callback;\n",
       "  s.onerror = function(){console.warn(\"failed to load library \" + url);};\n",
       "  document.getElementsByTagName(\"head\")[0].appendChild(s);\n",
       "}\n",
       "\n",
       "if(typeof(mpld3) !== \"undefined\" && mpld3._mpld3IsLoaded){\n",
       "   // already loaded: just create the figure\n",
       "   !function(mpld3){\n",
       "       \n",
       "       mpld3.draw_figure(\"fig_el1466018034373571289355466849\", {\"width\": 432.0, \"height\": 288.0, \"axes\": [{\"bbox\": [0.125, 0.125, 0.775, 0.755], \"xlim\": [-7.300000000000001, 153.3], \"ylim\": [-4860.3333722540265, 102067.00081733456], \"xdomain\": [-7.300000000000001, 153.3], \"ydomain\": [-4860.3333722540265, 102067.00081733456], \"xscale\": \"linear\", \"yscale\": \"linear\", \"axes\": [{\"position\": \"bottom\", \"nticks\": 10, \"tickvalues\": null, \"tickformat\": null, \"scale\": \"linear\", \"fontsize\": 10.0, \"grid\": {\"gridOn\": false}, \"visible\": true}, {\"position\": \"left\", \"nticks\": 8, \"tickvalues\": null, \"tickformat\": null, \"scale\": \"linear\", \"fontsize\": 10.0, \"grid\": {\"gridOn\": false}, \"visible\": true}], \"axesbg\": \"#FFFFFF\", \"axesbgalpha\": null, \"zoomable\": true, \"id\": \"el146601803437136776\", \"lines\": [{\"data\": \"data01\", \"xindex\": 0, \"yindex\": 1, \"coordinates\": \"data\", \"id\": \"el146601803442670792\", \"color\": \"#1F77B4\", \"linewidth\": 1.5, \"dasharray\": \"5.550000000000001,2.4000000000000004\", \"alpha\": 1, \"zorder\": 2, \"drawstyle\": \"default\"}, {\"data\": \"data01\", \"xindex\": 0, \"yindex\": 2, \"coordinates\": \"data\", \"id\": \"el146601803442787208\", \"color\": \"#FF7F0E\", \"linewidth\": 1.5, \"dasharray\": \"none\", \"alpha\": 1, \"zorder\": 2, \"drawstyle\": \"default\"}, {\"data\": \"data01\", \"xindex\": 0, \"yindex\": 3, \"coordinates\": \"data\", \"id\": \"el146601803442786568\", \"color\": \"#2CA02C\", \"linewidth\": 1.5, \"dasharray\": \"none\", \"alpha\": 1, \"zorder\": 2, \"drawstyle\": \"default\"}, {\"data\": \"data02\", \"xindex\": 0, \"yindex\": 1, \"coordinates\": \"axes\", \"id\": \"el146601803442825480\", \"color\": \"#1F77B4\", \"linewidth\": 1.5, \"dasharray\": \"5.550000000000001,2.4000000000000004\", \"alpha\": 1, \"zorder\": 1000002.0, \"drawstyle\": \"default\"}, {\"data\": \"data02\", \"xindex\": 0, \"yindex\": 2, \"coordinates\": \"axes\", \"id\": \"el146601803442825736\", \"color\": \"#FF7F0E\", \"linewidth\": 1.5, \"dasharray\": \"none\", \"alpha\": 1, \"zorder\": 1000002.0, \"drawstyle\": \"default\"}, {\"data\": \"data02\", \"xindex\": 0, \"yindex\": 3, \"coordinates\": \"axes\", \"id\": \"el146601803442837704\", \"color\": \"#2CA02C\", \"linewidth\": 1.5, \"dasharray\": \"none\", \"alpha\": 1, \"zorder\": 1000002.0, \"drawstyle\": \"default\"}], \"paths\": [{\"data\": \"data03\", \"xindex\": 0, \"yindex\": 1, \"coordinates\": \"axes\", \"pathcodes\": [\"M\", \"L\", \"S\", \"L\", \"S\", \"L\", \"S\", \"L\", \"S\", \"Z\"], \"id\": \"el146601803442823304\", \"dasharray\": \"none\", \"alpha\": 0.8, \"facecolor\": \"#FFFFFF\", \"edgecolor\": \"#CCCCCC\", \"edgewidth\": 1.0, \"zorder\": 1000000.0}], \"markers\": [], \"texts\": [{\"text\": \"x\", \"position\": [0.49999999999999994, -0.09657836644591611], \"coordinates\": \"axes\", \"h_anchor\": \"middle\", \"v_baseline\": \"hanging\", \"rotation\": -0.0, \"fontsize\": 10.0, \"color\": \"#000000\", \"alpha\": 1, \"zorder\": 3, \"id\": \"el146601803442312136\"}, {\"text\": \"y\", \"position\": [-0.14710274790919953, 0.49999999999999994], \"coordinates\": \"axes\", \"h_anchor\": \"middle\", \"v_baseline\": \"auto\", \"rotation\": -90.0, \"fontsize\": 10.0, \"color\": \"#000000\", \"alpha\": 1, \"zorder\": 3, \"id\": \"el146601803438263880\"}, {\"text\": \"Model(fitter)\", \"position\": [0.49999999999999994, 1.0275938189845473], \"coordinates\": \"axes\", \"h_anchor\": \"middle\", \"v_baseline\": \"auto\", \"rotation\": -0.0, \"fontsize\": 12.0, \"color\": \"#000000\", \"alpha\": 1, \"zorder\": 3, \"id\": \"el146601803437116552\"}, {\"text\": \"init\", \"position\": [0.11051373954599761, 0.9218175128771156], \"coordinates\": \"axes\", \"h_anchor\": \"start\", \"v_baseline\": \"auto\", \"rotation\": -0.0, \"fontsize\": 10.0, \"color\": \"#000000\", \"alpha\": 1, \"zorder\": 1000003.0, \"id\": \"el146601803442824392\"}, {\"text\": \"data\", \"position\": [0.11051373954599761, 0.8528329654157469], \"coordinates\": \"axes\", \"h_anchor\": \"start\", \"v_baseline\": \"auto\", \"rotation\": -0.0, \"fontsize\": 10.0, \"color\": \"#000000\", \"alpha\": 1, \"zorder\": 1000003.0, \"id\": \"el146601803442825672\"}, {\"text\": \"best-fit\", \"position\": [0.11051373954599761, 0.7838484179543782], \"coordinates\": \"axes\", \"h_anchor\": \"start\", \"v_baseline\": \"auto\", \"rotation\": -0.0, \"fontsize\": 10.0, \"color\": \"#000000\", \"alpha\": 1, \"zorder\": 1000003.0, \"id\": \"el146601803442835784\"}], \"collections\": [], \"images\": [], \"sharex\": [], \"sharey\": []}], \"data\": {\"data01\": [[0.0, 0.0, 0.0, 0.0], [1.0, 0.27263472069508654, 0.0, 0.2712546872473089], [2.0, 0.46420452072740254, 0.0, 0.4555556109633707], [3.0, 0.6153319688002011, 0.0, 0.5911062571141164], [4.0, 0.7496492508422771, 0.0, 0.7005522360397884], [5.0, 0.8813114196729317, 0.0, 0.7974234977203897], [6.0, 1.0192461553111156, 0.0, 0.8899187324118405], [7.0, 1.1695657323118511, 0.0, 0.9831295914147287], [8.0, 1.3369450512922392, 0.0, 1.080348924466343], [9.0, 1.5254193716230653, 0.0, 1.1838412492046277], [10.0, 1.7388577575175734, 0.0, 1.2952978173458898], [11.0, 1.9812569795881065, 0.0, 1.416106607213192], [12.0, 2.256937977779464, 0.0, 1.5475139440114356], [13.0, 2.5706916285953656, 0.0, 1.6907227621331942], [14.0, 2.92790082132307, 0.0, 1.8469539786374098], [15.0, 3.334654708285431, 0.0, 2.0174865343196013], [16.0, 3.7978648501688093, 0.0, 2.2036852823053574], [17.0, 4.325389612140005, 0.0, 2.40702216262922], [18.0, 4.926171413974941, 0.0, 2.6290938322646653], [19.0, 5.610390544175347, 0.0, 2.8716377479998885], [20.0, 6.389638901609102, 0.0, 3.136547827450446], [21.0, 7.277117124230109, 0.0, 3.4258904588295565], [22.0, 8.287858388213634, 0.0, 3.74192134358669], [23.0, 9.438983753821226, 0.0, 4.0871034782773155], [24.0, 10.74999183034774, 0.0, 4.464126608699754], [25.0, 12.243089358170783, 0.0, 4.875928340193354], [26.0, 13.943567368701194, 0.0, 5.325717109350543], [27.0, 15.880229534154719, 0.0, 5.816997228854386], [28.0, 18.085880196178714, 0.0, 6.353596210795506], [29.0, 20.597879999319385, 0.0, 6.939694542658545], [30.0, 23.458778625278818, 0.0, 7.579858498305632], [31.0, 26.717035646106112, 0.0, 8.27907546257745], [32.0, 30.42784129518362, 0.0, 9.042792869198847], [33.0, 34.654051321418486, 0.0, 9.876960673536056], [34.0, 39.46725173699927, 0.0, 10.788077692745313], [35.0, 44.948971312329476, 0.0, 11.783242253477415], [36.0, 51.1920625482827, 0.0, 12.87020748136561], [37.0, 58.302274481730464, 0.0, 14.057441648440584], [38.0, 66.40004398204016, 1.0, 15.354194214529672], [39.0, 75.6225357394852, 1.0, 16.770567923800233], [40.0, 86.12596546035589, 1.0, 18.317597441865182], [41.0, 98.08824625011691, 2.0, 20.00733529285822], [42.0, 111.71200197333688, 3.0, 21.852945816840975], [43.0, 127.22799948107544, 3.0, 23.868807805385178], [44.0, 144.89905737960115, 3.0, 26.070626405498743], [45.0, 165.0244982981925, 3.0, 28.475555404053814], [46.0, 187.9452165510757, 3.0, 31.10233102241599], [47.0, 214.04945663365174, 3.0, 33.97141795336478], [48.0, 243.77938698273715, 3.0, 37.10516862648858], [49.0, 277.6385887845168, 3.0, 40.52799718628674], [50.0, 316.2005870425587, 3.0, 44.26657004438578], [51.0, 360.1185652719144, 3.0, 48.350013657168624], [52.0, 410.13642875080825, 3.0, 52.81014120528284], [53.0, 467.10140515965776, 3.0, 57.681700009224734], [54.0, 531.9783959306491, 3.0, 63.00264318717633], [55.0, 605.8663187730685, 3.0, 68.81442499057802], [56.0, 690.0167221382858, 3.0, 75.16232336872328], [57.0, 785.8549843710114, 3.0, 82.09579253360245], [58.0, 895.0044549966798, 3.0, 89.66884898941422], [59.0, 1019.3139544959193, 3.0, 97.9404923746301], [60.0, 1160.8890859690687, 3.0, 106.9751637607229], [61.0, 1322.1279004114367, 3.0, 116.8432483578853], [62.0, 1505.7615181750266, 3.0, 127.62162451028138], [63.0, 1714.9003798996332, 3.0, 139.39426191591747], [64.0, 1953.0869371770355, 3.0, 152.25287448589393], [65.0, 2224.355646355153, 3.0, 166.29763626187483], [66.0, 2533.3013057355274, 3.0, 181.63796059940637], [67.0, 2885.1568732487035, 3.0, 198.39335264558625], [68.0, 3285.8820975125936, 3.0, 216.69433827190207], [69.0, 3742.264454401941, 3.0, 236.68348167133348], [70.0, 4262.034104028994, 5.0, 258.5164941996608], [71.0, 4853.994814176958, 5.0, 282.36344569185377], [72.0, 5528.173001289685, 28.0, 308.41008837272364], [73.0, 6295.987616744663, 30.0, 336.85929542237824], [74.0, 7170.443487253795, 31.0, 367.9326491726092], [75.0, 8166.351502671474, 34.0, 401.87215418695945], [76.0, 9300.579442306727, 39.0, 438.9421155579054], [77.0, 10592.337591904217, 43.0, 479.4311901864878], [78.0, 12063.50400422211, 56.0, 523.654624976821], [79.0, 13738.99490814587, 62.0, 571.9566954529273], [80.0, 15647.186535467295, 73.0, 624.7133672671202], [81.0, 17820.395494770222, 82.0, 682.335193917366], [82.0, 20295.425777833796, 102.0, 745.270480432534], [83.0, 23114.19170341904, 113.0, 814.0087231380683], [84.0, 26324.42719005713, 119.0, 889.0843534546882], [85.0, 29980.492634200673, 142.0, 971.0808139784102], [86.0, 34144.2847063073, 156.0, 1060.6349815255053], [87.0, 38886.13924425446, 194.0, 1158.4419668031092], [88.0, 44284.03603050036, 244.0, 1265.260313819978], [89.0, 50398.16872646968, 330.0, 1381.9176251054923], [90.0, 56994.923834846704, 396.0, 1509.3166298810077], [91.0, 62771.929767085065, 499.0, 1648.441705315876], [92.0, 66697.7569285122, 536.0, 1800.3658676935843], [93.0, 69084.46661280803, 657.0, 1966.2582463345861], [94.0, 70439.43078946775, 727.0, 2147.3919788621433], [95.0, 71125.11020498113, 887.0, 2345.152568047328], [96.0, 71378.97825233798, 987.0, 2561.0465589505816], [97.0, 71354.89430203076, 1024.0, 2796.710501294579], [98.0, 71152.39654243377, 1251.0, 3053.920022621016], [99.0, 70835.86516914154, 1397.0, 3334.5988105349766], [100.0, 70446.93597680815, 1998.0, 3640.8272209228394], [101.0, 70012.53205411966, 2543.0, 3974.850108896852], [102.0, 69550.05934598159, 2567.0, 4339.083378943541], [103.0, 69070.7674885774, 3082.0, 4736.118560107113], [104.0, 68581.92383455331, 3588.0, 5168.724614990382], [105.0, 68088.21983139368, 4778.0, 5639.845781334827], [106.0, 67592.68058589027, 5311.0, 6152.594376893169], [107.0, 67097.25348787391, 5916.0, 6710.237069693404], [108.0, 66603.18880847986, 6725.0, 7316.172875934365], [109.0, 66111.28590917819, 7598.0, 7973.901613097528], [110.0, 65622.05257899532, 8446.0, 8686.981287782302], [111.0, 65135.808040421296, 9205.0, 9458.973692115722], [112.0, 64652.749598094226, 10453.0, 10293.378616636077], [113.0, 64172.99574102498, 11487.0, 11193.558441230154], [114.0, 63696.61414193105, 12322.0, 12162.657032587711], [115.0, 63223.63949433045, 13430.0, 13203.519701312778], [116.0, 62754.08535247632, 14352.0, 14318.623278379124], [117.0, 62287.95162645153, 15722.0, 15510.027471672154], [118.0, 61825.22942964269, 17615.0, 16779.359241130955], [119.0, 61365.90429317641, 18539.0, 18127.840823476996], [120.0, 60909.95817587917, 20080.0, 19556.366135633518], [121.0, 60457.37079075377, 21370.0, 21065.626076220306], [122.0, 60008.12046236307, 23077.0, 22656.27415122211], [123.0, 59562.18467331189, 24530.0, 24329.116621684134], [124.0, 59119.54042625588, 26283.0, 26085.308278413515], [125.0, 58680.16446988614, 27890.0, 27926.53288454602], [126.0, 58244.03344880045, 29451.0, 29855.152030027373], [127.0, 57811.12401166223, 31324.0, 31874.31137924039], [128.0, 57381.41283719766, 33062.0, 33988.00141177311], [129.0, 56954.87670217147, 34863.0, 36201.07576752829], [130.0, 56531.49251498356, 37257.0, 38519.23551605472], [131.0, 56111.23734169754, 39699.0, 40948.98995265372], [132.0, 55694.0883477245, 42505.0, 43497.60466334784], [133.0, 55280.022842484555, 46437.0, 46173.04607434223], [134.0, 54869.018318595874, 49400.0, 48983.92999324804], [135.0, 54461.052448412964, 52987.0, 51939.47891386421], [136.0, 54056.1030154638, 56351.0, 55049.49069387034], [137.0, 53654.14793507622, 59695.0, 58324.31924855125], [138.0, 53255.16531328301, 62808.0, 61774.86817892664], [139.0, 52859.133445884465, 67161.0, 65412.595140856865], [140.0, 52466.03080507051, 70768.0, 69249.52626670715], [141.0, 52075.83589761917, 74292.0, 73298.27915521439], [142.0, 51688.5274037764, 78055.0, 77572.09308736818], [143.0, 51304.08421722147, 81997.0, 82084.86522679354], [144.0, 50922.48545871426, 85784.0, 86851.1919145584], [145.0, 50543.71033680553, 90648.0, 91886.41425659538], [146.0, 50167.738012113914, 95698.0, 97206.66744508053]], \"data02\": [[0.026881720430107503, 0.9379139072847682, 0.8689293598233996, 0.7999448123620309], [0.08661887694145756, 0.9379139072847682, 0.8689293598233996, 0.7999448123620309]], \"data03\": [[0.020908004778972505, 0.7562545989698307], [0.22252090800477894, 0.7562545989698307], [0.22849462365591397, 0.7562545989698307], [0.22849462365591397, 0.7654525386313465], [0.22849462365591397, 0.9678072111846947], [0.22849462365591397, 0.9770051508462105], [0.22252090800477894, 0.9770051508462105], [0.020908004778972505, 0.9770051508462105], [0.014934289127837508, 0.9770051508462105], [0.014934289127837508, 0.9678072111846947], [0.014934289127837508, 0.7654525386313465], [0.014934289127837508, 0.7562545989698307], [0.020908004778972505, 0.7562545989698307]]}, \"id\": \"el146601803437357128\", \"plugins\": [{\"type\": \"reset\"}, {\"type\": \"zoom\", \"button\": true, \"enabled\": false}, {\"type\": \"boxzoom\", \"button\": true, \"enabled\": false}]});\n",
       "   }(mpld3);\n",
       "}else if(typeof define === \"function\" && define.amd){\n",
       "   // require.js is available: use it to load d3/mpld3\n",
       "   require.config({paths: {d3: \"https://mpld3.github.io/js/d3.v3.min\"}});\n",
       "   require([\"d3\"], function(d3){\n",
       "      window.d3 = d3;\n",
       "      mpld3_load_lib(\"https://mpld3.github.io/js/mpld3.v0.3.js\", function(){\n",
       "         \n",
       "         mpld3.draw_figure(\"fig_el1466018034373571289355466849\", {\"width\": 432.0, \"height\": 288.0, \"axes\": [{\"bbox\": [0.125, 0.125, 0.775, 0.755], \"xlim\": [-7.300000000000001, 153.3], \"ylim\": [-4860.3333722540265, 102067.00081733456], \"xdomain\": [-7.300000000000001, 153.3], \"ydomain\": [-4860.3333722540265, 102067.00081733456], \"xscale\": \"linear\", \"yscale\": \"linear\", \"axes\": [{\"position\": \"bottom\", \"nticks\": 10, \"tickvalues\": null, \"tickformat\": null, \"scale\": \"linear\", \"fontsize\": 10.0, \"grid\": {\"gridOn\": false}, \"visible\": true}, {\"position\": \"left\", \"nticks\": 8, \"tickvalues\": null, \"tickformat\": null, \"scale\": \"linear\", \"fontsize\": 10.0, \"grid\": {\"gridOn\": false}, \"visible\": true}], \"axesbg\": \"#FFFFFF\", \"axesbgalpha\": null, \"zoomable\": true, \"id\": \"el146601803437136776\", \"lines\": [{\"data\": \"data01\", \"xindex\": 0, \"yindex\": 1, \"coordinates\": \"data\", \"id\": \"el146601803442670792\", \"color\": \"#1F77B4\", \"linewidth\": 1.5, \"dasharray\": \"5.550000000000001,2.4000000000000004\", \"alpha\": 1, \"zorder\": 2, \"drawstyle\": \"default\"}, {\"data\": \"data01\", \"xindex\": 0, \"yindex\": 2, \"coordinates\": \"data\", \"id\": \"el146601803442787208\", \"color\": \"#FF7F0E\", \"linewidth\": 1.5, \"dasharray\": \"none\", \"alpha\": 1, \"zorder\": 2, \"drawstyle\": \"default\"}, {\"data\": \"data01\", \"xindex\": 0, \"yindex\": 3, \"coordinates\": \"data\", \"id\": \"el146601803442786568\", \"color\": \"#2CA02C\", \"linewidth\": 1.5, \"dasharray\": \"none\", \"alpha\": 1, \"zorder\": 2, \"drawstyle\": \"default\"}, {\"data\": \"data02\", \"xindex\": 0, \"yindex\": 1, \"coordinates\": \"axes\", \"id\": \"el146601803442825480\", \"color\": \"#1F77B4\", \"linewidth\": 1.5, \"dasharray\": \"5.550000000000001,2.4000000000000004\", \"alpha\": 1, \"zorder\": 1000002.0, \"drawstyle\": \"default\"}, {\"data\": \"data02\", \"xindex\": 0, \"yindex\": 2, \"coordinates\": \"axes\", \"id\": \"el146601803442825736\", \"color\": \"#FF7F0E\", \"linewidth\": 1.5, \"dasharray\": \"none\", \"alpha\": 1, \"zorder\": 1000002.0, \"drawstyle\": \"default\"}, {\"data\": \"data02\", \"xindex\": 0, \"yindex\": 3, \"coordinates\": \"axes\", \"id\": \"el146601803442837704\", \"color\": \"#2CA02C\", \"linewidth\": 1.5, \"dasharray\": \"none\", \"alpha\": 1, \"zorder\": 1000002.0, \"drawstyle\": \"default\"}], \"paths\": [{\"data\": \"data03\", \"xindex\": 0, \"yindex\": 1, \"coordinates\": \"axes\", \"pathcodes\": [\"M\", \"L\", \"S\", \"L\", \"S\", \"L\", \"S\", \"L\", \"S\", \"Z\"], \"id\": \"el146601803442823304\", \"dasharray\": \"none\", \"alpha\": 0.8, \"facecolor\": \"#FFFFFF\", \"edgecolor\": \"#CCCCCC\", \"edgewidth\": 1.0, \"zorder\": 1000000.0}], \"markers\": [], \"texts\": [{\"text\": \"x\", \"position\": [0.49999999999999994, -0.09657836644591611], \"coordinates\": \"axes\", \"h_anchor\": \"middle\", \"v_baseline\": \"hanging\", \"rotation\": -0.0, \"fontsize\": 10.0, \"color\": \"#000000\", \"alpha\": 1, \"zorder\": 3, \"id\": \"el146601803442312136\"}, {\"text\": \"y\", \"position\": [-0.14710274790919953, 0.49999999999999994], \"coordinates\": \"axes\", \"h_anchor\": \"middle\", \"v_baseline\": \"auto\", \"rotation\": -90.0, \"fontsize\": 10.0, \"color\": \"#000000\", \"alpha\": 1, \"zorder\": 3, \"id\": \"el146601803438263880\"}, {\"text\": \"Model(fitter)\", \"position\": [0.49999999999999994, 1.0275938189845473], \"coordinates\": \"axes\", \"h_anchor\": \"middle\", \"v_baseline\": \"auto\", \"rotation\": -0.0, \"fontsize\": 12.0, \"color\": \"#000000\", \"alpha\": 1, \"zorder\": 3, \"id\": \"el146601803437116552\"}, {\"text\": \"init\", \"position\": [0.11051373954599761, 0.9218175128771156], \"coordinates\": \"axes\", \"h_anchor\": \"start\", \"v_baseline\": \"auto\", \"rotation\": -0.0, \"fontsize\": 10.0, \"color\": \"#000000\", \"alpha\": 1, \"zorder\": 1000003.0, \"id\": \"el146601803442824392\"}, {\"text\": \"data\", \"position\": [0.11051373954599761, 0.8528329654157469], \"coordinates\": \"axes\", \"h_anchor\": \"start\", \"v_baseline\": \"auto\", \"rotation\": -0.0, \"fontsize\": 10.0, \"color\": \"#000000\", \"alpha\": 1, \"zorder\": 1000003.0, \"id\": \"el146601803442825672\"}, {\"text\": \"best-fit\", \"position\": [0.11051373954599761, 0.7838484179543782], \"coordinates\": \"axes\", \"h_anchor\": \"start\", \"v_baseline\": \"auto\", \"rotation\": -0.0, \"fontsize\": 10.0, \"color\": \"#000000\", \"alpha\": 1, \"zorder\": 1000003.0, \"id\": \"el146601803442835784\"}], \"collections\": [], \"images\": [], \"sharex\": [], \"sharey\": []}], \"data\": {\"data01\": [[0.0, 0.0, 0.0, 0.0], [1.0, 0.27263472069508654, 0.0, 0.2712546872473089], [2.0, 0.46420452072740254, 0.0, 0.4555556109633707], [3.0, 0.6153319688002011, 0.0, 0.5911062571141164], [4.0, 0.7496492508422771, 0.0, 0.7005522360397884], [5.0, 0.8813114196729317, 0.0, 0.7974234977203897], [6.0, 1.0192461553111156, 0.0, 0.8899187324118405], [7.0, 1.1695657323118511, 0.0, 0.9831295914147287], [8.0, 1.3369450512922392, 0.0, 1.080348924466343], [9.0, 1.5254193716230653, 0.0, 1.1838412492046277], [10.0, 1.7388577575175734, 0.0, 1.2952978173458898], [11.0, 1.9812569795881065, 0.0, 1.416106607213192], [12.0, 2.256937977779464, 0.0, 1.5475139440114356], [13.0, 2.5706916285953656, 0.0, 1.6907227621331942], [14.0, 2.92790082132307, 0.0, 1.8469539786374098], [15.0, 3.334654708285431, 0.0, 2.0174865343196013], [16.0, 3.7978648501688093, 0.0, 2.2036852823053574], [17.0, 4.325389612140005, 0.0, 2.40702216262922], [18.0, 4.926171413974941, 0.0, 2.6290938322646653], [19.0, 5.610390544175347, 0.0, 2.8716377479998885], [20.0, 6.389638901609102, 0.0, 3.136547827450446], [21.0, 7.277117124230109, 0.0, 3.4258904588295565], [22.0, 8.287858388213634, 0.0, 3.74192134358669], [23.0, 9.438983753821226, 0.0, 4.0871034782773155], [24.0, 10.74999183034774, 0.0, 4.464126608699754], [25.0, 12.243089358170783, 0.0, 4.875928340193354], [26.0, 13.943567368701194, 0.0, 5.325717109350543], [27.0, 15.880229534154719, 0.0, 5.816997228854386], [28.0, 18.085880196178714, 0.0, 6.353596210795506], [29.0, 20.597879999319385, 0.0, 6.939694542658545], [30.0, 23.458778625278818, 0.0, 7.579858498305632], [31.0, 26.717035646106112, 0.0, 8.27907546257745], [32.0, 30.42784129518362, 0.0, 9.042792869198847], [33.0, 34.654051321418486, 0.0, 9.876960673536056], [34.0, 39.46725173699927, 0.0, 10.788077692745313], [35.0, 44.948971312329476, 0.0, 11.783242253477415], [36.0, 51.1920625482827, 0.0, 12.87020748136561], [37.0, 58.302274481730464, 0.0, 14.057441648440584], [38.0, 66.40004398204016, 1.0, 15.354194214529672], [39.0, 75.6225357394852, 1.0, 16.770567923800233], [40.0, 86.12596546035589, 1.0, 18.317597441865182], [41.0, 98.08824625011691, 2.0, 20.00733529285822], [42.0, 111.71200197333688, 3.0, 21.852945816840975], [43.0, 127.22799948107544, 3.0, 23.868807805385178], [44.0, 144.89905737960115, 3.0, 26.070626405498743], [45.0, 165.0244982981925, 3.0, 28.475555404053814], [46.0, 187.9452165510757, 3.0, 31.10233102241599], [47.0, 214.04945663365174, 3.0, 33.97141795336478], [48.0, 243.77938698273715, 3.0, 37.10516862648858], [49.0, 277.6385887845168, 3.0, 40.52799718628674], [50.0, 316.2005870425587, 3.0, 44.26657004438578], [51.0, 360.1185652719144, 3.0, 48.350013657168624], [52.0, 410.13642875080825, 3.0, 52.81014120528284], [53.0, 467.10140515965776, 3.0, 57.681700009224734], [54.0, 531.9783959306491, 3.0, 63.00264318717633], [55.0, 605.8663187730685, 3.0, 68.81442499057802], [56.0, 690.0167221382858, 3.0, 75.16232336872328], [57.0, 785.8549843710114, 3.0, 82.09579253360245], [58.0, 895.0044549966798, 3.0, 89.66884898941422], [59.0, 1019.3139544959193, 3.0, 97.9404923746301], [60.0, 1160.8890859690687, 3.0, 106.9751637607229], [61.0, 1322.1279004114367, 3.0, 116.8432483578853], [62.0, 1505.7615181750266, 3.0, 127.62162451028138], [63.0, 1714.9003798996332, 3.0, 139.39426191591747], [64.0, 1953.0869371770355, 3.0, 152.25287448589393], [65.0, 2224.355646355153, 3.0, 166.29763626187483], [66.0, 2533.3013057355274, 3.0, 181.63796059940637], [67.0, 2885.1568732487035, 3.0, 198.39335264558625], [68.0, 3285.8820975125936, 3.0, 216.69433827190207], [69.0, 3742.264454401941, 3.0, 236.68348167133348], [70.0, 4262.034104028994, 5.0, 258.5164941996608], [71.0, 4853.994814176958, 5.0, 282.36344569185377], [72.0, 5528.173001289685, 28.0, 308.41008837272364], [73.0, 6295.987616744663, 30.0, 336.85929542237824], [74.0, 7170.443487253795, 31.0, 367.9326491726092], [75.0, 8166.351502671474, 34.0, 401.87215418695945], [76.0, 9300.579442306727, 39.0, 438.9421155579054], [77.0, 10592.337591904217, 43.0, 479.4311901864878], [78.0, 12063.50400422211, 56.0, 523.654624976821], [79.0, 13738.99490814587, 62.0, 571.9566954529273], [80.0, 15647.186535467295, 73.0, 624.7133672671202], [81.0, 17820.395494770222, 82.0, 682.335193917366], [82.0, 20295.425777833796, 102.0, 745.270480432534], [83.0, 23114.19170341904, 113.0, 814.0087231380683], [84.0, 26324.42719005713, 119.0, 889.0843534546882], [85.0, 29980.492634200673, 142.0, 971.0808139784102], [86.0, 34144.2847063073, 156.0, 1060.6349815255053], [87.0, 38886.13924425446, 194.0, 1158.4419668031092], [88.0, 44284.03603050036, 244.0, 1265.260313819978], [89.0, 50398.16872646968, 330.0, 1381.9176251054923], [90.0, 56994.923834846704, 396.0, 1509.3166298810077], [91.0, 62771.929767085065, 499.0, 1648.441705315876], [92.0, 66697.7569285122, 536.0, 1800.3658676935843], [93.0, 69084.46661280803, 657.0, 1966.2582463345861], [94.0, 70439.43078946775, 727.0, 2147.3919788621433], [95.0, 71125.11020498113, 887.0, 2345.152568047328], [96.0, 71378.97825233798, 987.0, 2561.0465589505816], [97.0, 71354.89430203076, 1024.0, 2796.710501294579], [98.0, 71152.39654243377, 1251.0, 3053.920022621016], [99.0, 70835.86516914154, 1397.0, 3334.5988105349766], [100.0, 70446.93597680815, 1998.0, 3640.8272209228394], [101.0, 70012.53205411966, 2543.0, 3974.850108896852], [102.0, 69550.05934598159, 2567.0, 4339.083378943541], [103.0, 69070.7674885774, 3082.0, 4736.118560107113], [104.0, 68581.92383455331, 3588.0, 5168.724614990382], [105.0, 68088.21983139368, 4778.0, 5639.845781334827], [106.0, 67592.68058589027, 5311.0, 6152.594376893169], [107.0, 67097.25348787391, 5916.0, 6710.237069693404], [108.0, 66603.18880847986, 6725.0, 7316.172875934365], [109.0, 66111.28590917819, 7598.0, 7973.901613097528], [110.0, 65622.05257899532, 8446.0, 8686.981287782302], [111.0, 65135.808040421296, 9205.0, 9458.973692115722], [112.0, 64652.749598094226, 10453.0, 10293.378616636077], [113.0, 64172.99574102498, 11487.0, 11193.558441230154], [114.0, 63696.61414193105, 12322.0, 12162.657032587711], [115.0, 63223.63949433045, 13430.0, 13203.519701312778], [116.0, 62754.08535247632, 14352.0, 14318.623278379124], [117.0, 62287.95162645153, 15722.0, 15510.027471672154], [118.0, 61825.22942964269, 17615.0, 16779.359241130955], [119.0, 61365.90429317641, 18539.0, 18127.840823476996], [120.0, 60909.95817587917, 20080.0, 19556.366135633518], [121.0, 60457.37079075377, 21370.0, 21065.626076220306], [122.0, 60008.12046236307, 23077.0, 22656.27415122211], [123.0, 59562.18467331189, 24530.0, 24329.116621684134], [124.0, 59119.54042625588, 26283.0, 26085.308278413515], [125.0, 58680.16446988614, 27890.0, 27926.53288454602], [126.0, 58244.03344880045, 29451.0, 29855.152030027373], [127.0, 57811.12401166223, 31324.0, 31874.31137924039], [128.0, 57381.41283719766, 33062.0, 33988.00141177311], [129.0, 56954.87670217147, 34863.0, 36201.07576752829], [130.0, 56531.49251498356, 37257.0, 38519.23551605472], [131.0, 56111.23734169754, 39699.0, 40948.98995265372], [132.0, 55694.0883477245, 42505.0, 43497.60466334784], [133.0, 55280.022842484555, 46437.0, 46173.04607434223], [134.0, 54869.018318595874, 49400.0, 48983.92999324804], [135.0, 54461.052448412964, 52987.0, 51939.47891386421], [136.0, 54056.1030154638, 56351.0, 55049.49069387034], [137.0, 53654.14793507622, 59695.0, 58324.31924855125], [138.0, 53255.16531328301, 62808.0, 61774.86817892664], [139.0, 52859.133445884465, 67161.0, 65412.595140856865], [140.0, 52466.03080507051, 70768.0, 69249.52626670715], [141.0, 52075.83589761917, 74292.0, 73298.27915521439], [142.0, 51688.5274037764, 78055.0, 77572.09308736818], [143.0, 51304.08421722147, 81997.0, 82084.86522679354], [144.0, 50922.48545871426, 85784.0, 86851.1919145584], [145.0, 50543.71033680553, 90648.0, 91886.41425659538], [146.0, 50167.738012113914, 95698.0, 97206.66744508053]], \"data02\": [[0.026881720430107503, 0.9379139072847682, 0.8689293598233996, 0.7999448123620309], [0.08661887694145756, 0.9379139072847682, 0.8689293598233996, 0.7999448123620309]], \"data03\": [[0.020908004778972505, 0.7562545989698307], [0.22252090800477894, 0.7562545989698307], [0.22849462365591397, 0.7562545989698307], [0.22849462365591397, 0.7654525386313465], [0.22849462365591397, 0.9678072111846947], [0.22849462365591397, 0.9770051508462105], [0.22252090800477894, 0.9770051508462105], [0.020908004778972505, 0.9770051508462105], [0.014934289127837508, 0.9770051508462105], [0.014934289127837508, 0.9678072111846947], [0.014934289127837508, 0.7654525386313465], [0.014934289127837508, 0.7562545989698307], [0.020908004778972505, 0.7562545989698307]]}, \"id\": \"el146601803437357128\", \"plugins\": [{\"type\": \"reset\"}, {\"type\": \"zoom\", \"button\": true, \"enabled\": false}, {\"type\": \"boxzoom\", \"button\": true, \"enabled\": false}]});\n",
       "      });\n",
       "    });\n",
       "}else{\n",
       "    // require.js not available: dynamically load d3 & mpld3\n",
       "    mpld3_load_lib(\"https://mpld3.github.io/js/d3.v3.min.js\", function(){\n",
       "         mpld3_load_lib(\"https://mpld3.github.io/js/mpld3.v0.3.js\", function(){\n",
       "                 \n",
       "                 mpld3.draw_figure(\"fig_el1466018034373571289355466849\", {\"width\": 432.0, \"height\": 288.0, \"axes\": [{\"bbox\": [0.125, 0.125, 0.775, 0.755], \"xlim\": [-7.300000000000001, 153.3], \"ylim\": [-4860.3333722540265, 102067.00081733456], \"xdomain\": [-7.300000000000001, 153.3], \"ydomain\": [-4860.3333722540265, 102067.00081733456], \"xscale\": \"linear\", \"yscale\": \"linear\", \"axes\": [{\"position\": \"bottom\", \"nticks\": 10, \"tickvalues\": null, \"tickformat\": null, \"scale\": \"linear\", \"fontsize\": 10.0, \"grid\": {\"gridOn\": false}, \"visible\": true}, {\"position\": \"left\", \"nticks\": 8, \"tickvalues\": null, \"tickformat\": null, \"scale\": \"linear\", \"fontsize\": 10.0, \"grid\": {\"gridOn\": false}, \"visible\": true}], \"axesbg\": \"#FFFFFF\", \"axesbgalpha\": null, \"zoomable\": true, \"id\": \"el146601803437136776\", \"lines\": [{\"data\": \"data01\", \"xindex\": 0, \"yindex\": 1, \"coordinates\": \"data\", \"id\": \"el146601803442670792\", \"color\": \"#1F77B4\", \"linewidth\": 1.5, \"dasharray\": \"5.550000000000001,2.4000000000000004\", \"alpha\": 1, \"zorder\": 2, \"drawstyle\": \"default\"}, {\"data\": \"data01\", \"xindex\": 0, \"yindex\": 2, \"coordinates\": \"data\", \"id\": \"el146601803442787208\", \"color\": \"#FF7F0E\", \"linewidth\": 1.5, \"dasharray\": \"none\", \"alpha\": 1, \"zorder\": 2, \"drawstyle\": \"default\"}, {\"data\": \"data01\", \"xindex\": 0, \"yindex\": 3, \"coordinates\": \"data\", \"id\": \"el146601803442786568\", \"color\": \"#2CA02C\", \"linewidth\": 1.5, \"dasharray\": \"none\", \"alpha\": 1, \"zorder\": 2, \"drawstyle\": \"default\"}, {\"data\": \"data02\", \"xindex\": 0, \"yindex\": 1, \"coordinates\": \"axes\", \"id\": \"el146601803442825480\", \"color\": \"#1F77B4\", \"linewidth\": 1.5, \"dasharray\": \"5.550000000000001,2.4000000000000004\", \"alpha\": 1, \"zorder\": 1000002.0, \"drawstyle\": \"default\"}, {\"data\": \"data02\", \"xindex\": 0, \"yindex\": 2, \"coordinates\": \"axes\", \"id\": \"el146601803442825736\", \"color\": \"#FF7F0E\", \"linewidth\": 1.5, \"dasharray\": \"none\", \"alpha\": 1, \"zorder\": 1000002.0, \"drawstyle\": \"default\"}, {\"data\": \"data02\", \"xindex\": 0, \"yindex\": 3, \"coordinates\": \"axes\", \"id\": \"el146601803442837704\", \"color\": \"#2CA02C\", \"linewidth\": 1.5, \"dasharray\": \"none\", \"alpha\": 1, \"zorder\": 1000002.0, \"drawstyle\": \"default\"}], \"paths\": [{\"data\": \"data03\", \"xindex\": 0, \"yindex\": 1, \"coordinates\": \"axes\", \"pathcodes\": [\"M\", \"L\", \"S\", \"L\", \"S\", \"L\", \"S\", \"L\", \"S\", \"Z\"], \"id\": \"el146601803442823304\", \"dasharray\": \"none\", \"alpha\": 0.8, \"facecolor\": \"#FFFFFF\", \"edgecolor\": \"#CCCCCC\", \"edgewidth\": 1.0, \"zorder\": 1000000.0}], \"markers\": [], \"texts\": [{\"text\": \"x\", \"position\": [0.49999999999999994, -0.09657836644591611], \"coordinates\": \"axes\", \"h_anchor\": \"middle\", \"v_baseline\": \"hanging\", \"rotation\": -0.0, \"fontsize\": 10.0, \"color\": \"#000000\", \"alpha\": 1, \"zorder\": 3, \"id\": \"el146601803442312136\"}, {\"text\": \"y\", \"position\": [-0.14710274790919953, 0.49999999999999994], \"coordinates\": \"axes\", \"h_anchor\": \"middle\", \"v_baseline\": \"auto\", \"rotation\": -90.0, \"fontsize\": 10.0, \"color\": \"#000000\", \"alpha\": 1, \"zorder\": 3, \"id\": \"el146601803438263880\"}, {\"text\": \"Model(fitter)\", \"position\": [0.49999999999999994, 1.0275938189845473], \"coordinates\": \"axes\", \"h_anchor\": \"middle\", \"v_baseline\": \"auto\", \"rotation\": -0.0, \"fontsize\": 12.0, \"color\": \"#000000\", \"alpha\": 1, \"zorder\": 3, \"id\": \"el146601803437116552\"}, {\"text\": \"init\", \"position\": [0.11051373954599761, 0.9218175128771156], \"coordinates\": \"axes\", \"h_anchor\": \"start\", \"v_baseline\": \"auto\", \"rotation\": -0.0, \"fontsize\": 10.0, \"color\": \"#000000\", \"alpha\": 1, \"zorder\": 1000003.0, \"id\": \"el146601803442824392\"}, {\"text\": \"data\", \"position\": [0.11051373954599761, 0.8528329654157469], \"coordinates\": \"axes\", \"h_anchor\": \"start\", \"v_baseline\": \"auto\", \"rotation\": -0.0, \"fontsize\": 10.0, \"color\": \"#000000\", \"alpha\": 1, \"zorder\": 1000003.0, \"id\": \"el146601803442825672\"}, {\"text\": \"best-fit\", \"position\": [0.11051373954599761, 0.7838484179543782], \"coordinates\": \"axes\", \"h_anchor\": \"start\", \"v_baseline\": \"auto\", \"rotation\": -0.0, \"fontsize\": 10.0, \"color\": \"#000000\", \"alpha\": 1, \"zorder\": 1000003.0, \"id\": \"el146601803442835784\"}], \"collections\": [], \"images\": [], \"sharex\": [], \"sharey\": []}], \"data\": {\"data01\": [[0.0, 0.0, 0.0, 0.0], [1.0, 0.27263472069508654, 0.0, 0.2712546872473089], [2.0, 0.46420452072740254, 0.0, 0.4555556109633707], [3.0, 0.6153319688002011, 0.0, 0.5911062571141164], [4.0, 0.7496492508422771, 0.0, 0.7005522360397884], [5.0, 0.8813114196729317, 0.0, 0.7974234977203897], [6.0, 1.0192461553111156, 0.0, 0.8899187324118405], [7.0, 1.1695657323118511, 0.0, 0.9831295914147287], [8.0, 1.3369450512922392, 0.0, 1.080348924466343], [9.0, 1.5254193716230653, 0.0, 1.1838412492046277], [10.0, 1.7388577575175734, 0.0, 1.2952978173458898], [11.0, 1.9812569795881065, 0.0, 1.416106607213192], [12.0, 2.256937977779464, 0.0, 1.5475139440114356], [13.0, 2.5706916285953656, 0.0, 1.6907227621331942], [14.0, 2.92790082132307, 0.0, 1.8469539786374098], [15.0, 3.334654708285431, 0.0, 2.0174865343196013], [16.0, 3.7978648501688093, 0.0, 2.2036852823053574], [17.0, 4.325389612140005, 0.0, 2.40702216262922], [18.0, 4.926171413974941, 0.0, 2.6290938322646653], [19.0, 5.610390544175347, 0.0, 2.8716377479998885], [20.0, 6.389638901609102, 0.0, 3.136547827450446], [21.0, 7.277117124230109, 0.0, 3.4258904588295565], [22.0, 8.287858388213634, 0.0, 3.74192134358669], [23.0, 9.438983753821226, 0.0, 4.0871034782773155], [24.0, 10.74999183034774, 0.0, 4.464126608699754], [25.0, 12.243089358170783, 0.0, 4.875928340193354], [26.0, 13.943567368701194, 0.0, 5.325717109350543], [27.0, 15.880229534154719, 0.0, 5.816997228854386], [28.0, 18.085880196178714, 0.0, 6.353596210795506], [29.0, 20.597879999319385, 0.0, 6.939694542658545], [30.0, 23.458778625278818, 0.0, 7.579858498305632], [31.0, 26.717035646106112, 0.0, 8.27907546257745], [32.0, 30.42784129518362, 0.0, 9.042792869198847], [33.0, 34.654051321418486, 0.0, 9.876960673536056], [34.0, 39.46725173699927, 0.0, 10.788077692745313], [35.0, 44.948971312329476, 0.0, 11.783242253477415], [36.0, 51.1920625482827, 0.0, 12.87020748136561], [37.0, 58.302274481730464, 0.0, 14.057441648440584], [38.0, 66.40004398204016, 1.0, 15.354194214529672], [39.0, 75.6225357394852, 1.0, 16.770567923800233], [40.0, 86.12596546035589, 1.0, 18.317597441865182], [41.0, 98.08824625011691, 2.0, 20.00733529285822], [42.0, 111.71200197333688, 3.0, 21.852945816840975], [43.0, 127.22799948107544, 3.0, 23.868807805385178], [44.0, 144.89905737960115, 3.0, 26.070626405498743], [45.0, 165.0244982981925, 3.0, 28.475555404053814], [46.0, 187.9452165510757, 3.0, 31.10233102241599], [47.0, 214.04945663365174, 3.0, 33.97141795336478], [48.0, 243.77938698273715, 3.0, 37.10516862648858], [49.0, 277.6385887845168, 3.0, 40.52799718628674], [50.0, 316.2005870425587, 3.0, 44.26657004438578], [51.0, 360.1185652719144, 3.0, 48.350013657168624], [52.0, 410.13642875080825, 3.0, 52.81014120528284], [53.0, 467.10140515965776, 3.0, 57.681700009224734], [54.0, 531.9783959306491, 3.0, 63.00264318717633], [55.0, 605.8663187730685, 3.0, 68.81442499057802], [56.0, 690.0167221382858, 3.0, 75.16232336872328], [57.0, 785.8549843710114, 3.0, 82.09579253360245], [58.0, 895.0044549966798, 3.0, 89.66884898941422], [59.0, 1019.3139544959193, 3.0, 97.9404923746301], [60.0, 1160.8890859690687, 3.0, 106.9751637607229], [61.0, 1322.1279004114367, 3.0, 116.8432483578853], [62.0, 1505.7615181750266, 3.0, 127.62162451028138], [63.0, 1714.9003798996332, 3.0, 139.39426191591747], [64.0, 1953.0869371770355, 3.0, 152.25287448589393], [65.0, 2224.355646355153, 3.0, 166.29763626187483], [66.0, 2533.3013057355274, 3.0, 181.63796059940637], [67.0, 2885.1568732487035, 3.0, 198.39335264558625], [68.0, 3285.8820975125936, 3.0, 216.69433827190207], [69.0, 3742.264454401941, 3.0, 236.68348167133348], [70.0, 4262.034104028994, 5.0, 258.5164941996608], [71.0, 4853.994814176958, 5.0, 282.36344569185377], [72.0, 5528.173001289685, 28.0, 308.41008837272364], [73.0, 6295.987616744663, 30.0, 336.85929542237824], [74.0, 7170.443487253795, 31.0, 367.9326491726092], [75.0, 8166.351502671474, 34.0, 401.87215418695945], [76.0, 9300.579442306727, 39.0, 438.9421155579054], [77.0, 10592.337591904217, 43.0, 479.4311901864878], [78.0, 12063.50400422211, 56.0, 523.654624976821], [79.0, 13738.99490814587, 62.0, 571.9566954529273], [80.0, 15647.186535467295, 73.0, 624.7133672671202], [81.0, 17820.395494770222, 82.0, 682.335193917366], [82.0, 20295.425777833796, 102.0, 745.270480432534], [83.0, 23114.19170341904, 113.0, 814.0087231380683], [84.0, 26324.42719005713, 119.0, 889.0843534546882], [85.0, 29980.492634200673, 142.0, 971.0808139784102], [86.0, 34144.2847063073, 156.0, 1060.6349815255053], [87.0, 38886.13924425446, 194.0, 1158.4419668031092], [88.0, 44284.03603050036, 244.0, 1265.260313819978], [89.0, 50398.16872646968, 330.0, 1381.9176251054923], [90.0, 56994.923834846704, 396.0, 1509.3166298810077], [91.0, 62771.929767085065, 499.0, 1648.441705315876], [92.0, 66697.7569285122, 536.0, 1800.3658676935843], [93.0, 69084.46661280803, 657.0, 1966.2582463345861], [94.0, 70439.43078946775, 727.0, 2147.3919788621433], [95.0, 71125.11020498113, 887.0, 2345.152568047328], [96.0, 71378.97825233798, 987.0, 2561.0465589505816], [97.0, 71354.89430203076, 1024.0, 2796.710501294579], [98.0, 71152.39654243377, 1251.0, 3053.920022621016], [99.0, 70835.86516914154, 1397.0, 3334.5988105349766], [100.0, 70446.93597680815, 1998.0, 3640.8272209228394], [101.0, 70012.53205411966, 2543.0, 3974.850108896852], [102.0, 69550.05934598159, 2567.0, 4339.083378943541], [103.0, 69070.7674885774, 3082.0, 4736.118560107113], [104.0, 68581.92383455331, 3588.0, 5168.724614990382], [105.0, 68088.21983139368, 4778.0, 5639.845781334827], [106.0, 67592.68058589027, 5311.0, 6152.594376893169], [107.0, 67097.25348787391, 5916.0, 6710.237069693404], [108.0, 66603.18880847986, 6725.0, 7316.172875934365], [109.0, 66111.28590917819, 7598.0, 7973.901613097528], [110.0, 65622.05257899532, 8446.0, 8686.981287782302], [111.0, 65135.808040421296, 9205.0, 9458.973692115722], [112.0, 64652.749598094226, 10453.0, 10293.378616636077], [113.0, 64172.99574102498, 11487.0, 11193.558441230154], [114.0, 63696.61414193105, 12322.0, 12162.657032587711], [115.0, 63223.63949433045, 13430.0, 13203.519701312778], [116.0, 62754.08535247632, 14352.0, 14318.623278379124], [117.0, 62287.95162645153, 15722.0, 15510.027471672154], [118.0, 61825.22942964269, 17615.0, 16779.359241130955], [119.0, 61365.90429317641, 18539.0, 18127.840823476996], [120.0, 60909.95817587917, 20080.0, 19556.366135633518], [121.0, 60457.37079075377, 21370.0, 21065.626076220306], [122.0, 60008.12046236307, 23077.0, 22656.27415122211], [123.0, 59562.18467331189, 24530.0, 24329.116621684134], [124.0, 59119.54042625588, 26283.0, 26085.308278413515], [125.0, 58680.16446988614, 27890.0, 27926.53288454602], [126.0, 58244.03344880045, 29451.0, 29855.152030027373], [127.0, 57811.12401166223, 31324.0, 31874.31137924039], [128.0, 57381.41283719766, 33062.0, 33988.00141177311], [129.0, 56954.87670217147, 34863.0, 36201.07576752829], [130.0, 56531.49251498356, 37257.0, 38519.23551605472], [131.0, 56111.23734169754, 39699.0, 40948.98995265372], [132.0, 55694.0883477245, 42505.0, 43497.60466334784], [133.0, 55280.022842484555, 46437.0, 46173.04607434223], [134.0, 54869.018318595874, 49400.0, 48983.92999324804], [135.0, 54461.052448412964, 52987.0, 51939.47891386421], [136.0, 54056.1030154638, 56351.0, 55049.49069387034], [137.0, 53654.14793507622, 59695.0, 58324.31924855125], [138.0, 53255.16531328301, 62808.0, 61774.86817892664], [139.0, 52859.133445884465, 67161.0, 65412.595140856865], [140.0, 52466.03080507051, 70768.0, 69249.52626670715], [141.0, 52075.83589761917, 74292.0, 73298.27915521439], [142.0, 51688.5274037764, 78055.0, 77572.09308736818], [143.0, 51304.08421722147, 81997.0, 82084.86522679354], [144.0, 50922.48545871426, 85784.0, 86851.1919145584], [145.0, 50543.71033680553, 90648.0, 91886.41425659538], [146.0, 50167.738012113914, 95698.0, 97206.66744508053]], \"data02\": [[0.026881720430107503, 0.9379139072847682, 0.8689293598233996, 0.7999448123620309], [0.08661887694145756, 0.9379139072847682, 0.8689293598233996, 0.7999448123620309]], \"data03\": [[0.020908004778972505, 0.7562545989698307], [0.22252090800477894, 0.7562545989698307], [0.22849462365591397, 0.7562545989698307], [0.22849462365591397, 0.7654525386313465], [0.22849462365591397, 0.9678072111846947], [0.22849462365591397, 0.9770051508462105], [0.22252090800477894, 0.9770051508462105], [0.020908004778972505, 0.9770051508462105], [0.014934289127837508, 0.9770051508462105], [0.014934289127837508, 0.9678072111846947], [0.014934289127837508, 0.7654525386313465], [0.014934289127837508, 0.7562545989698307], [0.020908004778972505, 0.7562545989698307]]}, \"id\": \"el146601803437357128\", \"plugins\": [{\"type\": \"reset\"}, {\"type\": \"zoom\", \"button\": true, \"enabled\": false}, {\"type\": \"boxzoom\", \"button\": true, \"enabled\": false}]});\n",
       "            })\n",
       "         });\n",
       "}\n",
       "</script>"
      ],
      "text/plain": [
       "<Figure size 432x288 with 1 Axes>"
      ]
     },
     "metadata": {
      "needs_background": "light"
     },
     "output_type": "display_data"
    }
   ],
   "source": [
    "result = mod.fit(y_data, params, method=\"least_squares\", x=x_data)\n",
    "result.plot_fit(datafmt=\"-\", show_init=True);\n",
    "\n",
    "result.best_values"
   ]
  },
  {
   "cell_type": "code",
   "execution_count": null,
   "metadata": {},
   "outputs": [],
   "source": []
  }
 ],
 "metadata": {
  "kernelspec": {
   "display_name": "Python 3",
   "language": "python",
   "name": "python3"
  },
  "language_info": {
   "codemirror_mode": {
    "name": "ipython",
    "version": 3
   },
   "file_extension": ".py",
   "mimetype": "text/x-python",
   "name": "python",
   "nbconvert_exporter": "python",
   "pygments_lexer": "ipython3",
   "version": "3.7.6"
  }
 },
 "nbformat": 4,
 "nbformat_minor": 4
}
