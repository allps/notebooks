{
 "cells": [
  {
   "cell_type": "code",
   "execution_count": 1,
   "metadata": {},
   "outputs": [],
   "source": [
    "import numpy as np\n",
    "import pandas as pd\n",
    "pd.options.mode.chained_assignment = None  # default='warn'\n",
    "\n",
    "import matplotlib.pyplot as plt\n",
    "import matplotlib.dates as mdates\n",
    "import mpld3\n",
    "mpld3.enable_notebook()\n",
    "from scipy.integrate import odeint\n",
    "import lmfit\n",
    "from lmfit.lineshapes import gaussian, lorentzian\n",
    "\n",
    "import warnings\n",
    "warnings.filterwarnings('ignore')"
   ]
  },
  {
   "cell_type": "code",
   "execution_count": 2,
   "metadata": {},
   "outputs": [],
   "source": [
    "covid_data = pd.read_csv('https://raw.githubusercontent.com/CSSEGISandData/COVID-19/master/csse_covid_19_data/csse_covid_19_time_series/time_series_covid19_recovered_global.csv')"
   ]
  },
  {
   "cell_type": "code",
   "execution_count": 3,
   "metadata": {},
   "outputs": [
    {
     "data": {
      "text/html": [
       "<div>\n",
       "<style scoped>\n",
       "    .dataframe tbody tr th:only-of-type {\n",
       "        vertical-align: middle;\n",
       "    }\n",
       "\n",
       "    .dataframe tbody tr th {\n",
       "        vertical-align: top;\n",
       "    }\n",
       "\n",
       "    .dataframe thead th {\n",
       "        text-align: right;\n",
       "    }\n",
       "</style>\n",
       "<table border=\"1\" class=\"dataframe\">\n",
       "  <thead>\n",
       "    <tr style=\"text-align: right;\">\n",
       "      <th></th>\n",
       "      <th>Province/State</th>\n",
       "      <th>Country/Region</th>\n",
       "      <th>Lat</th>\n",
       "      <th>Long</th>\n",
       "      <th>1/22/20</th>\n",
       "      <th>1/23/20</th>\n",
       "      <th>1/24/20</th>\n",
       "      <th>1/25/20</th>\n",
       "      <th>1/26/20</th>\n",
       "      <th>1/27/20</th>\n",
       "      <th>...</th>\n",
       "      <th>5/8/20</th>\n",
       "      <th>5/9/20</th>\n",
       "      <th>5/10/20</th>\n",
       "      <th>5/11/20</th>\n",
       "      <th>5/12/20</th>\n",
       "      <th>5/13/20</th>\n",
       "      <th>5/14/20</th>\n",
       "      <th>5/15/20</th>\n",
       "      <th>5/16/20</th>\n",
       "      <th>5/17/20</th>\n",
       "    </tr>\n",
       "  </thead>\n",
       "  <tbody>\n",
       "    <tr>\n",
       "      <th>0</th>\n",
       "      <td>NaN</td>\n",
       "      <td>Afghanistan</td>\n",
       "      <td>33.0000</td>\n",
       "      <td>65.0000</td>\n",
       "      <td>0</td>\n",
       "      <td>0</td>\n",
       "      <td>0</td>\n",
       "      <td>0</td>\n",
       "      <td>0</td>\n",
       "      <td>0</td>\n",
       "      <td>...</td>\n",
       "      <td>472</td>\n",
       "      <td>502</td>\n",
       "      <td>558</td>\n",
       "      <td>558</td>\n",
       "      <td>610</td>\n",
       "      <td>648</td>\n",
       "      <td>691</td>\n",
       "      <td>745</td>\n",
       "      <td>745</td>\n",
       "      <td>778</td>\n",
       "    </tr>\n",
       "    <tr>\n",
       "      <th>1</th>\n",
       "      <td>NaN</td>\n",
       "      <td>Albania</td>\n",
       "      <td>41.1533</td>\n",
       "      <td>20.1683</td>\n",
       "      <td>0</td>\n",
       "      <td>0</td>\n",
       "      <td>0</td>\n",
       "      <td>0</td>\n",
       "      <td>0</td>\n",
       "      <td>0</td>\n",
       "      <td>...</td>\n",
       "      <td>620</td>\n",
       "      <td>627</td>\n",
       "      <td>650</td>\n",
       "      <td>654</td>\n",
       "      <td>682</td>\n",
       "      <td>688</td>\n",
       "      <td>694</td>\n",
       "      <td>705</td>\n",
       "      <td>714</td>\n",
       "      <td>715</td>\n",
       "    </tr>\n",
       "    <tr>\n",
       "      <th>2</th>\n",
       "      <td>NaN</td>\n",
       "      <td>Algeria</td>\n",
       "      <td>28.0339</td>\n",
       "      <td>1.6596</td>\n",
       "      <td>0</td>\n",
       "      <td>0</td>\n",
       "      <td>0</td>\n",
       "      <td>0</td>\n",
       "      <td>0</td>\n",
       "      <td>0</td>\n",
       "      <td>...</td>\n",
       "      <td>2467</td>\n",
       "      <td>2546</td>\n",
       "      <td>2678</td>\n",
       "      <td>2841</td>\n",
       "      <td>2998</td>\n",
       "      <td>3058</td>\n",
       "      <td>3158</td>\n",
       "      <td>3271</td>\n",
       "      <td>3409</td>\n",
       "      <td>3507</td>\n",
       "    </tr>\n",
       "    <tr>\n",
       "      <th>3</th>\n",
       "      <td>NaN</td>\n",
       "      <td>Andorra</td>\n",
       "      <td>42.5063</td>\n",
       "      <td>1.5218</td>\n",
       "      <td>0</td>\n",
       "      <td>0</td>\n",
       "      <td>0</td>\n",
       "      <td>0</td>\n",
       "      <td>0</td>\n",
       "      <td>0</td>\n",
       "      <td>...</td>\n",
       "      <td>537</td>\n",
       "      <td>545</td>\n",
       "      <td>550</td>\n",
       "      <td>550</td>\n",
       "      <td>568</td>\n",
       "      <td>576</td>\n",
       "      <td>596</td>\n",
       "      <td>604</td>\n",
       "      <td>615</td>\n",
       "      <td>617</td>\n",
       "    </tr>\n",
       "    <tr>\n",
       "      <th>4</th>\n",
       "      <td>NaN</td>\n",
       "      <td>Angola</td>\n",
       "      <td>-11.2027</td>\n",
       "      <td>17.8739</td>\n",
       "      <td>0</td>\n",
       "      <td>0</td>\n",
       "      <td>0</td>\n",
       "      <td>0</td>\n",
       "      <td>0</td>\n",
       "      <td>0</td>\n",
       "      <td>...</td>\n",
       "      <td>11</td>\n",
       "      <td>13</td>\n",
       "      <td>13</td>\n",
       "      <td>13</td>\n",
       "      <td>13</td>\n",
       "      <td>14</td>\n",
       "      <td>14</td>\n",
       "      <td>17</td>\n",
       "      <td>17</td>\n",
       "      <td>17</td>\n",
       "    </tr>\n",
       "  </tbody>\n",
       "</table>\n",
       "<p>5 rows × 121 columns</p>\n",
       "</div>"
      ],
      "text/plain": [
       "  Province/State Country/Region      Lat     Long  1/22/20  1/23/20  1/24/20  \\\n",
       "0            NaN    Afghanistan  33.0000  65.0000        0        0        0   \n",
       "1            NaN        Albania  41.1533  20.1683        0        0        0   \n",
       "2            NaN        Algeria  28.0339   1.6596        0        0        0   \n",
       "3            NaN        Andorra  42.5063   1.5218        0        0        0   \n",
       "4            NaN         Angola -11.2027  17.8739        0        0        0   \n",
       "\n",
       "   1/25/20  1/26/20  1/27/20  ...  5/8/20  5/9/20  5/10/20  5/11/20  5/12/20  \\\n",
       "0        0        0        0  ...     472     502      558      558      610   \n",
       "1        0        0        0  ...     620     627      650      654      682   \n",
       "2        0        0        0  ...    2467    2546     2678     2841     2998   \n",
       "3        0        0        0  ...     537     545      550      550      568   \n",
       "4        0        0        0  ...      11      13       13       13       13   \n",
       "\n",
       "   5/13/20  5/14/20  5/15/20  5/16/20  5/17/20  \n",
       "0      648      691      745      745      778  \n",
       "1      688      694      705      714      715  \n",
       "2     3058     3158     3271     3409     3507  \n",
       "3      576      596      604      615      617  \n",
       "4       14       14       17       17       17  \n",
       "\n",
       "[5 rows x 121 columns]"
      ]
     },
     "execution_count": 3,
     "metadata": {},
     "output_type": "execute_result"
    }
   ],
   "source": [
    "covid_data.head()"
   ]
  },
  {
   "cell_type": "code",
   "execution_count": 4,
   "metadata": {},
   "outputs": [],
   "source": [
    "covid_data.rename(columns={\"Country/Region\": \"Location\"}, inplace = True)"
   ]
  },
  {
   "cell_type": "code",
   "execution_count": 5,
   "metadata": {},
   "outputs": [],
   "source": [
    "beds = pd.read_csv(\"https://raw.githubusercontent.com/hf2000510/infectious_disease_modelling/master/data/beds.csv\", header=0)\n",
    "agegroups = pd.read_csv(\"https://raw.githubusercontent.com/hf2000510/infectious_disease_modelling/master/data/agegroups.csv\")\n",
    "probabilities = pd.read_csv(\"https://raw.githubusercontent.com/hf2000510/infectious_disease_modelling/master/data/probabilities.csv\")"
   ]
  },
  {
   "cell_type": "code",
   "execution_count": 6,
   "metadata": {},
   "outputs": [],
   "source": [
    "beds_lookup = dict(zip(beds[\"Country\"], beds[\"ICU_Beds\"]))\n",
    "agegroup_lookup = dict(zip(agegroups['Location'], agegroups[['0_9', '10_19', '20_29', '30_39', '40_49', '50_59', '60_69', '70_79', '80_89', '90_100']].values))\n",
    "\n",
    "prob_I_to_C_1 = list(probabilities.prob_I_to_ICU_1.values)\n",
    "prob_I_to_C_2 = list(probabilities.prob_I_to_ICU_2.values)\n",
    "prob_C_to_Death_1 = list(probabilities.prob_ICU_to_Death_1.values)\n",
    "prob_C_to_Death_2 = list(probabilities.prob_ICU_to_Death_2.values)"
   ]
  },
  {
   "cell_type": "code",
   "execution_count": 7,
   "metadata": {},
   "outputs": [],
   "source": [
    "def deriv(y, t, beta, gamma, sigma, N, p_I_to_C, p_C_to_D, Beds):\n",
    "    S, E, I, C, R, D = y\n",
    "\n",
    "    dSdt = -beta(t) * I * S / N\n",
    "    dEdt = beta(t) * I * S / N - sigma * E\n",
    "    dIdt = sigma * E - 1/12.0 * p_I_to_C * I - gamma * (1 - p_I_to_C) * I\n",
    "    dCdt = 1/12.0 * p_I_to_C * I - 1/7.5 * p_C_to_D * min(Beds(t), C) - max(0, C-Beds(t)) - (1 - p_C_to_D) * 1/6.5 * min(Beds(t), C)\n",
    "    dRdt = gamma * (1 - p_I_to_C) * I + (1 - p_C_to_D) * 1/6.5 * min(Beds(t), C)\n",
    "    dDdt = 1/7.5 * p_C_to_D * min(Beds(t), C) + max(0, C-Beds(t))\n",
    "    return dSdt, dEdt, dIdt, dCdt, dRdt, dDdt"
   ]
  },
  {
   "cell_type": "code",
   "execution_count": 8,
   "metadata": {},
   "outputs": [],
   "source": [
    "gamma = 1.0/9.0\n",
    "sigma = 1.0/3.0\n",
    "\n",
    "def logistic_R_0(t, R_0_start, k, x0, R_0_end):\n",
    "    return (R_0_start-R_0_end) / (1 + np.exp(-k*(-t+x0))) + R_0_end\n",
    "\n",
    "def Model(days, agegroups, beds_per_100k, R_0_start, k, x0, R_0_end, prob_I_to_C, prob_C_to_D, s):\n",
    "\n",
    "    def beta(t):\n",
    "        return logistic_R_0(t, R_0_start, k, x0, R_0_end) * gamma\n",
    "\n",
    "    N = sum(agegroups)\n",
    "    \n",
    "    def Beds(t):\n",
    "        beds_0 = beds_per_100k / 100_000 * N\n",
    "        return beds_0 + s*beds_0*t  # 0.003\n",
    "\n",
    "    y0 = N-1.0, 1.0, 0.0, 0.0, 0.0, 0.0\n",
    "    t = np.linspace(0, days-1, days)\n",
    "    ret = odeint(deriv, y0, t, args=(beta, gamma, sigma, N, prob_I_to_C, prob_C_to_D, Beds))\n",
    "    S, E, I, C, R, D = ret.T\n",
    "    R_0_over_time = [beta(i)/gamma for i in range(len(t))]\n",
    "\n",
    "    return t, S, E, I, C, R, D, R_0_over_time, Beds, prob_I_to_C, prob_C_to_D"
   ]
  },
  {
   "cell_type": "code",
   "execution_count": 9,
   "metadata": {},
   "outputs": [],
   "source": [
    "agegroups = agegroup_lookup[\"India\"]\n",
    "beds_per_100k = beds_lookup[\"India\"]\n",
    "outbreak_shift = 30\n",
    "params_init_min_max = {\"R_0_start\": (3.0, 2.0, 5.0), \"k\": (2.5, 0.01, 5.0), \"x0\": (90, 0, 120), \"R_0_end\": (0.9, 0.3, 3.5),\n",
    "                       \"prob_I_to_C\": (0.05, 0.01, 0.1), \"prob_C_to_D\": (0.5, 0.05, 0.8),\n",
    "                       \"s\": (0.003, 0.001, 0.01)}  # form: {parameter: (initial guess, minimum value, max value)}"
   ]
  },
  {
   "cell_type": "code",
   "execution_count": 10,
   "metadata": {},
   "outputs": [],
   "source": [
    "covid_india = covid_data[covid_data['Location'] == 'India']"
   ]
  },
  {
   "cell_type": "code",
   "execution_count": 11,
   "metadata": {},
   "outputs": [],
   "source": [
    "covid_india.drop(['Province/State', 'Location' , 'Lat', 'Long'], axis=1, inplace = True)"
   ]
  },
  {
   "cell_type": "code",
   "execution_count": 12,
   "metadata": {},
   "outputs": [],
   "source": [
    "data =covid_india.to_numpy()[0]"
   ]
  },
  {
   "cell_type": "code",
   "execution_count": 18,
   "metadata": {},
   "outputs": [
    {
     "data": {
      "text/plain": [
       "Text(0.5, 0, 'Date')"
      ]
     },
     "execution_count": 18,
     "metadata": {},
     "output_type": "execute_result"
    },
    {
     "data": {
      "image/png": "[encoded data removed]",
      "text/html": [
       "\n",
       "\n",
       "<style>\n",
       "\n",
       "</style>\n",
       "\n",
       "<div id=\"fig_el1000417914162143446617051294\"></div>\n",
       "<script>\n",
       "function mpld3_load_lib(url, callback){\n",
       "  var s = document.createElement('script');\n",
       "  s.src = url;\n",
       "  s.async = true;\n",
       "  s.onreadystatechange = s.onload = callback;\n",
       "  s.onerror = function(){console.warn(\"failed to load library \" + url);};\n",
       "  document.getElementsByTagName(\"head\")[0].appendChild(s);\n",
       "}\n",
       "\n",
       "if(typeof(mpld3) !== \"undefined\" && mpld3._mpld3IsLoaded){\n",
       "   // already loaded: just create the figure\n",
       "   !function(mpld3){\n",
       "       \n",
       "       mpld3.draw_figure(\"fig_el1000417914162143446617051294\", {\"width\": 720.0, \"height\": 432.0, \"axes\": [{\"bbox\": [0.125, 0.125, 0.775, 0.755], \"xlim\": [-5.800000000000001, 121.8], \"ylim\": [-1839.75, 38634.75], \"xdomain\": [-5.800000000000001, 121.8], \"ydomain\": [-1839.75, 38634.75], \"xscale\": \"linear\", \"yscale\": \"linear\", \"axes\": [{\"position\": \"bottom\", \"nticks\": 9, \"tickvalues\": null, \"tickformat\": null, \"scale\": \"linear\", \"fontsize\": 10.0, \"grid\": {\"gridOn\": false}, \"visible\": true}, {\"position\": \"left\", \"nticks\": 10, \"tickvalues\": null, \"tickformat\": null, \"scale\": \"linear\", \"fontsize\": 10.0, \"grid\": {\"gridOn\": false}, \"visible\": true}], \"axesbg\": \"#FFFFFF\", \"axesbgalpha\": null, \"zoomable\": true, \"id\": \"el100041791416215304\", \"lines\": [{\"data\": \"data01\", \"xindex\": 0, \"yindex\": 1, \"coordinates\": \"data\", \"id\": \"el100041791416706760\", \"color\": \"#1F77B4\", \"linewidth\": 1.5, \"dasharray\": \"none\", \"alpha\": 1, \"zorder\": 2, \"drawstyle\": \"default\"}], \"paths\": [], \"markers\": [], \"texts\": [{\"text\": \"Date\", \"position\": [0.5, -0.06438557763061073], \"coordinates\": \"axes\", \"h_anchor\": \"middle\", \"v_baseline\": \"hanging\", \"rotation\": -0.0, \"fontsize\": 10.0, \"color\": \"#000000\", \"alpha\": 1, \"zorder\": 3, \"id\": \"el100041791416559688\"}, {\"text\": \"Number of Patients\", \"position\": [-0.07683691756272401, 0.5], \"coordinates\": \"axes\", \"h_anchor\": \"middle\", \"v_baseline\": \"auto\", \"rotation\": -90.0, \"fontsize\": 10.0, \"color\": \"#000000\", \"alpha\": 1, \"zorder\": 3, \"id\": \"el100041791416637704\"}], \"collections\": [], \"images\": [], \"sharex\": [], \"sharey\": []}], \"data\": {\"data01\": [[0.0, 0.0], [1.0, 0.0], [2.0, 0.0], [3.0, 0.0], [4.0, 0.0], [5.0, 0.0], [6.0, 0.0], [7.0, 0.0], [8.0, 0.0], [9.0, 0.0], [10.0, 0.0], [11.0, 0.0], [12.0, 0.0], [13.0, 0.0], [14.0, 0.0], [15.0, 0.0], [16.0, 0.0], [17.0, 0.0], [18.0, 0.0], [19.0, 0.0], [20.0, 0.0], [21.0, 0.0], [22.0, 0.0], [23.0, 0.0], [24.0, 0.0], [25.0, 3.0], [26.0, 3.0], [27.0, 3.0], [28.0, 3.0], [29.0, 3.0], [30.0, 3.0], [31.0, 3.0], [32.0, 3.0], [33.0, 3.0], [34.0, 3.0], [35.0, 3.0], [36.0, 3.0], [37.0, 3.0], [38.0, 3.0], [39.0, 3.0], [40.0, 3.0], [41.0, 3.0], [42.0, 3.0], [43.0, 3.0], [44.0, 3.0], [45.0, 3.0], [46.0, 3.0], [47.0, 3.0], [48.0, 4.0], [49.0, 4.0], [50.0, 4.0], [51.0, 4.0], [52.0, 4.0], [53.0, 13.0], [54.0, 13.0], [55.0, 14.0], [56.0, 14.0], [57.0, 15.0], [58.0, 20.0], [59.0, 23.0], [60.0, 27.0], [61.0, 27.0], [62.0, 40.0], [63.0, 43.0], [64.0, 45.0], [65.0, 73.0], [66.0, 84.0], [67.0, 95.0], [68.0, 102.0], [69.0, 123.0], [70.0, 148.0], [71.0, 191.0], [72.0, 192.0], [73.0, 229.0], [74.0, 229.0], [75.0, 375.0], [76.0, 421.0], [77.0, 506.0], [78.0, 620.0], [79.0, 774.0], [80.0, 969.0], [81.0, 1080.0], [82.0, 1181.0], [83.0, 1359.0], [84.0, 1432.0], [85.0, 1768.0], [86.0, 2041.0], [87.0, 2463.0], [88.0, 2854.0], [89.0, 3273.0], [90.0, 3975.0], [91.0, 4370.0], [92.0, 5012.0], [93.0, 5498.0], [94.0, 5939.0], [95.0, 6523.0], [96.0, 7137.0], [97.0, 7747.0], [98.0, 8437.0], [99.0, 9068.0], [100.0, 10007.0], [101.0, 10819.0], [102.0, 11775.0], [103.0, 12847.0], [104.0, 14142.0], [105.0, 15331.0], [106.0, 16776.0], [107.0, 17887.0], [108.0, 19301.0], [109.0, 20969.0], [110.0, 22549.0], [111.0, 24420.0], [112.0, 26400.0], [113.0, 27969.0], [114.0, 30258.0], [115.0, 34224.0], [116.0, 36795.0]]}, \"id\": \"el100041791416214344\", \"plugins\": [{\"type\": \"reset\"}, {\"type\": \"zoom\", \"button\": true, \"enabled\": false}, {\"type\": \"boxzoom\", \"button\": true, \"enabled\": false}]});\n",
       "   }(mpld3);\n",
       "}else if(typeof define === \"function\" && define.amd){\n",
       "   // require.js is available: use it to load d3/mpld3\n",
       "   require.config({paths: {d3: \"https://mpld3.github.io/js/d3.v3.min\"}});\n",
       "   require([\"d3\"], function(d3){\n",
       "      window.d3 = d3;\n",
       "      mpld3_load_lib(\"https://mpld3.github.io/js/mpld3.v0.3.js\", function(){\n",
       "         \n",
       "         mpld3.draw_figure(\"fig_el1000417914162143446617051294\", {\"width\": 720.0, \"height\": 432.0, \"axes\": [{\"bbox\": [0.125, 0.125, 0.775, 0.755], \"xlim\": [-5.800000000000001, 121.8], \"ylim\": [-1839.75, 38634.75], \"xdomain\": [-5.800000000000001, 121.8], \"ydomain\": [-1839.75, 38634.75], \"xscale\": \"linear\", \"yscale\": \"linear\", \"axes\": [{\"position\": \"bottom\", \"nticks\": 9, \"tickvalues\": null, \"tickformat\": null, \"scale\": \"linear\", \"fontsize\": 10.0, \"grid\": {\"gridOn\": false}, \"visible\": true}, {\"position\": \"left\", \"nticks\": 10, \"tickvalues\": null, \"tickformat\": null, \"scale\": \"linear\", \"fontsize\": 10.0, \"grid\": {\"gridOn\": false}, \"visible\": true}], \"axesbg\": \"#FFFFFF\", \"axesbgalpha\": null, \"zoomable\": true, \"id\": \"el100041791416215304\", \"lines\": [{\"data\": \"data01\", \"xindex\": 0, \"yindex\": 1, \"coordinates\": \"data\", \"id\": \"el100041791416706760\", \"color\": \"#1F77B4\", \"linewidth\": 1.5, \"dasharray\": \"none\", \"alpha\": 1, \"zorder\": 2, \"drawstyle\": \"default\"}], \"paths\": [], \"markers\": [], \"texts\": [{\"text\": \"Date\", \"position\": [0.5, -0.06438557763061073], \"coordinates\": \"axes\", \"h_anchor\": \"middle\", \"v_baseline\": \"hanging\", \"rotation\": -0.0, \"fontsize\": 10.0, \"color\": \"#000000\", \"alpha\": 1, \"zorder\": 3, \"id\": \"el100041791416559688\"}, {\"text\": \"Number of Patients\", \"position\": [-0.07683691756272401, 0.5], \"coordinates\": \"axes\", \"h_anchor\": \"middle\", \"v_baseline\": \"auto\", \"rotation\": -90.0, \"fontsize\": 10.0, \"color\": \"#000000\", \"alpha\": 1, \"zorder\": 3, \"id\": \"el100041791416637704\"}], \"collections\": [], \"images\": [], \"sharex\": [], \"sharey\": []}], \"data\": {\"data01\": [[0.0, 0.0], [1.0, 0.0], [2.0, 0.0], [3.0, 0.0], [4.0, 0.0], [5.0, 0.0], [6.0, 0.0], [7.0, 0.0], [8.0, 0.0], [9.0, 0.0], [10.0, 0.0], [11.0, 0.0], [12.0, 0.0], [13.0, 0.0], [14.0, 0.0], [15.0, 0.0], [16.0, 0.0], [17.0, 0.0], [18.0, 0.0], [19.0, 0.0], [20.0, 0.0], [21.0, 0.0], [22.0, 0.0], [23.0, 0.0], [24.0, 0.0], [25.0, 3.0], [26.0, 3.0], [27.0, 3.0], [28.0, 3.0], [29.0, 3.0], [30.0, 3.0], [31.0, 3.0], [32.0, 3.0], [33.0, 3.0], [34.0, 3.0], [35.0, 3.0], [36.0, 3.0], [37.0, 3.0], [38.0, 3.0], [39.0, 3.0], [40.0, 3.0], [41.0, 3.0], [42.0, 3.0], [43.0, 3.0], [44.0, 3.0], [45.0, 3.0], [46.0, 3.0], [47.0, 3.0], [48.0, 4.0], [49.0, 4.0], [50.0, 4.0], [51.0, 4.0], [52.0, 4.0], [53.0, 13.0], [54.0, 13.0], [55.0, 14.0], [56.0, 14.0], [57.0, 15.0], [58.0, 20.0], [59.0, 23.0], [60.0, 27.0], [61.0, 27.0], [62.0, 40.0], [63.0, 43.0], [64.0, 45.0], [65.0, 73.0], [66.0, 84.0], [67.0, 95.0], [68.0, 102.0], [69.0, 123.0], [70.0, 148.0], [71.0, 191.0], [72.0, 192.0], [73.0, 229.0], [74.0, 229.0], [75.0, 375.0], [76.0, 421.0], [77.0, 506.0], [78.0, 620.0], [79.0, 774.0], [80.0, 969.0], [81.0, 1080.0], [82.0, 1181.0], [83.0, 1359.0], [84.0, 1432.0], [85.0, 1768.0], [86.0, 2041.0], [87.0, 2463.0], [88.0, 2854.0], [89.0, 3273.0], [90.0, 3975.0], [91.0, 4370.0], [92.0, 5012.0], [93.0, 5498.0], [94.0, 5939.0], [95.0, 6523.0], [96.0, 7137.0], [97.0, 7747.0], [98.0, 8437.0], [99.0, 9068.0], [100.0, 10007.0], [101.0, 10819.0], [102.0, 11775.0], [103.0, 12847.0], [104.0, 14142.0], [105.0, 15331.0], [106.0, 16776.0], [107.0, 17887.0], [108.0, 19301.0], [109.0, 20969.0], [110.0, 22549.0], [111.0, 24420.0], [112.0, 26400.0], [113.0, 27969.0], [114.0, 30258.0], [115.0, 34224.0], [116.0, 36795.0]]}, \"id\": \"el100041791416214344\", \"plugins\": [{\"type\": \"reset\"}, {\"type\": \"zoom\", \"button\": true, \"enabled\": false}, {\"type\": \"boxzoom\", \"button\": true, \"enabled\": false}]});\n",
       "      });\n",
       "    });\n",
       "}else{\n",
       "    // require.js not available: dynamically load d3 & mpld3\n",
       "    mpld3_load_lib(\"https://mpld3.github.io/js/d3.v3.min.js\", function(){\n",
       "         mpld3_load_lib(\"https://mpld3.github.io/js/mpld3.v0.3.js\", function(){\n",
       "                 \n",
       "                 mpld3.draw_figure(\"fig_el1000417914162143446617051294\", {\"width\": 720.0, \"height\": 432.0, \"axes\": [{\"bbox\": [0.125, 0.125, 0.775, 0.755], \"xlim\": [-5.800000000000001, 121.8], \"ylim\": [-1839.75, 38634.75], \"xdomain\": [-5.800000000000001, 121.8], \"ydomain\": [-1839.75, 38634.75], \"xscale\": \"linear\", \"yscale\": \"linear\", \"axes\": [{\"position\": \"bottom\", \"nticks\": 9, \"tickvalues\": null, \"tickformat\": null, \"scale\": \"linear\", \"fontsize\": 10.0, \"grid\": {\"gridOn\": false}, \"visible\": true}, {\"position\": \"left\", \"nticks\": 10, \"tickvalues\": null, \"tickformat\": null, \"scale\": \"linear\", \"fontsize\": 10.0, \"grid\": {\"gridOn\": false}, \"visible\": true}], \"axesbg\": \"#FFFFFF\", \"axesbgalpha\": null, \"zoomable\": true, \"id\": \"el100041791416215304\", \"lines\": [{\"data\": \"data01\", \"xindex\": 0, \"yindex\": 1, \"coordinates\": \"data\", \"id\": \"el100041791416706760\", \"color\": \"#1F77B4\", \"linewidth\": 1.5, \"dasharray\": \"none\", \"alpha\": 1, \"zorder\": 2, \"drawstyle\": \"default\"}], \"paths\": [], \"markers\": [], \"texts\": [{\"text\": \"Date\", \"position\": [0.5, -0.06438557763061073], \"coordinates\": \"axes\", \"h_anchor\": \"middle\", \"v_baseline\": \"hanging\", \"rotation\": -0.0, \"fontsize\": 10.0, \"color\": \"#000000\", \"alpha\": 1, \"zorder\": 3, \"id\": \"el100041791416559688\"}, {\"text\": \"Number of Patients\", \"position\": [-0.07683691756272401, 0.5], \"coordinates\": \"axes\", \"h_anchor\": \"middle\", \"v_baseline\": \"auto\", \"rotation\": -90.0, \"fontsize\": 10.0, \"color\": \"#000000\", \"alpha\": 1, \"zorder\": 3, \"id\": \"el100041791416637704\"}], \"collections\": [], \"images\": [], \"sharex\": [], \"sharey\": []}], \"data\": {\"data01\": [[0.0, 0.0], [1.0, 0.0], [2.0, 0.0], [3.0, 0.0], [4.0, 0.0], [5.0, 0.0], [6.0, 0.0], [7.0, 0.0], [8.0, 0.0], [9.0, 0.0], [10.0, 0.0], [11.0, 0.0], [12.0, 0.0], [13.0, 0.0], [14.0, 0.0], [15.0, 0.0], [16.0, 0.0], [17.0, 0.0], [18.0, 0.0], [19.0, 0.0], [20.0, 0.0], [21.0, 0.0], [22.0, 0.0], [23.0, 0.0], [24.0, 0.0], [25.0, 3.0], [26.0, 3.0], [27.0, 3.0], [28.0, 3.0], [29.0, 3.0], [30.0, 3.0], [31.0, 3.0], [32.0, 3.0], [33.0, 3.0], [34.0, 3.0], [35.0, 3.0], [36.0, 3.0], [37.0, 3.0], [38.0, 3.0], [39.0, 3.0], [40.0, 3.0], [41.0, 3.0], [42.0, 3.0], [43.0, 3.0], [44.0, 3.0], [45.0, 3.0], [46.0, 3.0], [47.0, 3.0], [48.0, 4.0], [49.0, 4.0], [50.0, 4.0], [51.0, 4.0], [52.0, 4.0], [53.0, 13.0], [54.0, 13.0], [55.0, 14.0], [56.0, 14.0], [57.0, 15.0], [58.0, 20.0], [59.0, 23.0], [60.0, 27.0], [61.0, 27.0], [62.0, 40.0], [63.0, 43.0], [64.0, 45.0], [65.0, 73.0], [66.0, 84.0], [67.0, 95.0], [68.0, 102.0], [69.0, 123.0], [70.0, 148.0], [71.0, 191.0], [72.0, 192.0], [73.0, 229.0], [74.0, 229.0], [75.0, 375.0], [76.0, 421.0], [77.0, 506.0], [78.0, 620.0], [79.0, 774.0], [80.0, 969.0], [81.0, 1080.0], [82.0, 1181.0], [83.0, 1359.0], [84.0, 1432.0], [85.0, 1768.0], [86.0, 2041.0], [87.0, 2463.0], [88.0, 2854.0], [89.0, 3273.0], [90.0, 3975.0], [91.0, 4370.0], [92.0, 5012.0], [93.0, 5498.0], [94.0, 5939.0], [95.0, 6523.0], [96.0, 7137.0], [97.0, 7747.0], [98.0, 8437.0], [99.0, 9068.0], [100.0, 10007.0], [101.0, 10819.0], [102.0, 11775.0], [103.0, 12847.0], [104.0, 14142.0], [105.0, 15331.0], [106.0, 16776.0], [107.0, 17887.0], [108.0, 19301.0], [109.0, 20969.0], [110.0, 22549.0], [111.0, 24420.0], [112.0, 26400.0], [113.0, 27969.0], [114.0, 30258.0], [115.0, 34224.0], [116.0, 36795.0]]}, \"id\": \"el100041791416214344\", \"plugins\": [{\"type\": \"reset\"}, {\"type\": \"zoom\", \"button\": true, \"enabled\": false}, {\"type\": \"boxzoom\", \"button\": true, \"enabled\": false}]});\n",
       "            })\n",
       "         });\n",
       "}\n",
       "</script>"
      ],
      "text/plain": [
       "<Figure size 720x432 with 1 Axes>"
      ]
     },
     "metadata": {
      "needs_background": "light"
     },
     "output_type": "display_data"
    }
   ],
   "source": [
    "plt.figure(figsize=(10,6))\n",
    "plt.plot(covid_india.to_numpy()[0])\n",
    "plt.ylabel(\"Number of Patients\")\n",
    "plt.xlabel(\"Date\")"
   ]
  },
  {
   "cell_type": "code",
   "execution_count": 13,
   "metadata": {},
   "outputs": [
    {
     "data": {
      "text/plain": [
       "array([    0,     0,     0,     0,     0,     0,     0,     0,     0,\n",
       "           0,     0,     0,     0,     0,     0,     0,     0,     0,\n",
       "           0,     0,     0,     0,     0,     0,     0,     3,     3,\n",
       "           3,     3,     3,     3,     3,     3,     3,     3,     3,\n",
       "           3,     3,     3,     3,     3,     3,     3,     3,     3,\n",
       "           3,     3,     3,     4,     4,     4,     4,     4,    13,\n",
       "          13,    14,    14,    15,    20,    23,    27,    27,    40,\n",
       "          43,    45,    73,    84,    95,   102,   123,   148,   191,\n",
       "         192,   229,   229,   375,   421,   506,   620,   774,   969,\n",
       "        1080,  1181,  1359,  1432,  1768,  2041,  2463,  2854,  3273,\n",
       "        3975,  4370,  5012,  5498,  5939,  6523,  7137,  7747,  8437,\n",
       "        9068, 10007, 10819, 11775, 12847, 14142, 15331, 16776, 17887,\n",
       "       19301, 20969, 22549, 24420, 26400, 27969, 30258, 34224, 36795],\n",
       "      dtype=int64)"
      ]
     },
     "execution_count": 13,
     "metadata": {},
     "output_type": "execute_result"
    }
   ],
   "source": [
    "data"
   ]
  },
  {
   "cell_type": "code",
   "execution_count": 15,
   "metadata": {},
   "outputs": [],
   "source": [
    "days = outbreak_shift + len(data)\n",
    "if outbreak_shift >= 0:\n",
    "    y_data = np.concatenate((np.zeros(outbreak_shift), data))\n",
    "else:\n",
    "    y_data = y_data[-outbreak_shift:]\n",
    "\n",
    "x_data = np.linspace(0, days - 1, days, dtype=int)  # x_data is just [0, 1, ..., max_days] array\n",
    "\n",
    "\n",
    "\n",
    "\n",
    "def fitter(x, R_0_start, k, x0, R_0_end, prob_I_to_C, prob_C_to_D, s):\n",
    "    ret = Model(days, agegroups, beds_per_100k, R_0_start, k, x0, R_0_end, prob_I_to_C, prob_C_to_D, s)\n",
    "    return ret[5][x]"
   ]
  },
  {
   "cell_type": "code",
   "execution_count": 16,
   "metadata": {},
   "outputs": [],
   "source": [
    "mod = lmfit.Model(fitter)\n",
    "\n",
    "for kwarg, (init, mini, maxi) in params_init_min_max.items():\n",
    "    mod.set_param_hint(str(kwarg), value=init, min=mini, max=maxi, vary=True)\n",
    "\n",
    "params = mod.make_params()\n",
    "fit_method = \"leastsq\""
   ]
  },
  {
   "cell_type": "code",
   "execution_count": 17,
   "metadata": {},
   "outputs": [
    {
     "data": {
      "text/plain": [
       "{'R_0_start': 2.0000000000000004,\n",
       " 'k': 4.897125786788932,\n",
       " 'x0': 119.9968148982907,\n",
       " 'R_0_end': 2.175280629009564,\n",
       " 'prob_I_to_C': 0.010000000000000002,\n",
       " 'prob_C_to_D': 0.7998481254951536,\n",
       " 's': 0.003}"
      ]
     },
     "execution_count": 17,
     "metadata": {},
     "output_type": "execute_result"
    },
    {
     "data": {
      "image/png": "[encoded data removed]",
      "text/html": [
       "\n",
       "\n",
       "<style>\n",
       "\n",
       "</style>\n",
       "\n",
       "<div id=\"fig_el1000417913814531285425339249\"></div>\n",
       "<script>\n",
       "function mpld3_load_lib(url, callback){\n",
       "  var s = document.createElement('script');\n",
       "  s.src = url;\n",
       "  s.async = true;\n",
       "  s.onreadystatechange = s.onload = callback;\n",
       "  s.onerror = function(){console.warn(\"failed to load library \" + url);};\n",
       "  document.getElementsByTagName(\"head\")[0].appendChild(s);\n",
       "}\n",
       "\n",
       "if(typeof(mpld3) !== \"undefined\" && mpld3._mpld3IsLoaded){\n",
       "   // already loaded: just create the figure\n",
       "   !function(mpld3){\n",
       "       \n",
       "       mpld3.draw_figure(\"fig_el1000417913814531285425339249\", {\"width\": 432.0, \"height\": 288.0, \"axes\": [{\"bbox\": [0.125, 0.125, 0.775, 0.755], \"xlim\": [-7.300000000000001, 153.3], \"ylim\": [-1839.75, 38634.75], \"xdomain\": [-7.300000000000001, 153.3], \"ydomain\": [-1839.75, 38634.75], \"xscale\": \"linear\", \"yscale\": \"linear\", \"axes\": [{\"position\": \"bottom\", \"nticks\": 10, \"tickvalues\": null, \"tickformat\": null, \"scale\": \"linear\", \"fontsize\": 10.0, \"grid\": {\"gridOn\": false}, \"visible\": true}, {\"position\": \"left\", \"nticks\": 10, \"tickvalues\": null, \"tickformat\": null, \"scale\": \"linear\", \"fontsize\": 10.0, \"grid\": {\"gridOn\": false}, \"visible\": true}], \"axesbg\": \"#FFFFFF\", \"axesbgalpha\": null, \"zoomable\": true, \"id\": \"el100041791380966920\", \"lines\": [{\"data\": \"data01\", \"xindex\": 0, \"yindex\": 1, \"coordinates\": \"data\", \"id\": \"el100041791415737224\", \"color\": \"#1F77B4\", \"linewidth\": 1.5, \"dasharray\": \"none\", \"alpha\": 1, \"zorder\": 2, \"drawstyle\": \"default\"}, {\"data\": \"data01\", \"xindex\": 0, \"yindex\": 2, \"coordinates\": \"data\", \"id\": \"el100041791415619464\", \"color\": \"#FF7F0E\", \"linewidth\": 1.5, \"dasharray\": \"none\", \"alpha\": 1, \"zorder\": 2, \"drawstyle\": \"default\"}, {\"data\": \"data02\", \"xindex\": 0, \"yindex\": 1, \"coordinates\": \"axes\", \"id\": \"el100041791415905672\", \"color\": \"#1F77B4\", \"linewidth\": 1.5, \"dasharray\": \"none\", \"alpha\": 1, \"zorder\": 1000002.0, \"drawstyle\": \"default\"}, {\"data\": \"data02\", \"xindex\": 0, \"yindex\": 2, \"coordinates\": \"axes\", \"id\": \"el100041791415936968\", \"color\": \"#FF7F0E\", \"linewidth\": 1.5, \"dasharray\": \"none\", \"alpha\": 1, \"zorder\": 1000002.0, \"drawstyle\": \"default\"}], \"paths\": [{\"data\": \"data03\", \"xindex\": 0, \"yindex\": 1, \"coordinates\": \"axes\", \"pathcodes\": [\"M\", \"L\", \"S\", \"L\", \"S\", \"L\", \"S\", \"L\", \"S\", \"Z\"], \"id\": \"el100041791415903816\", \"dasharray\": \"none\", \"alpha\": 0.8, \"facecolor\": \"#FFFFFF\", \"edgecolor\": \"#CCCCCC\", \"edgewidth\": 1.0, \"zorder\": 1000000.0}], \"markers\": [], \"texts\": [{\"text\": \"x\", \"position\": [0.49999999999999994, -0.09657836644591611], \"coordinates\": \"axes\", \"h_anchor\": \"middle\", \"v_baseline\": \"hanging\", \"rotation\": -0.0, \"fontsize\": 10.0, \"color\": \"#000000\", \"alpha\": 1, \"zorder\": 3, \"id\": \"el100041791415563144\"}, {\"text\": \"y\", \"position\": [-0.12806152927120668, 0.49999999999999994], \"coordinates\": \"axes\", \"h_anchor\": \"middle\", \"v_baseline\": \"auto\", \"rotation\": -90.0, \"fontsize\": 10.0, \"color\": \"#000000\", \"alpha\": 1, \"zorder\": 3, \"id\": \"el100041791415565256\"}, {\"text\": \"Model(fitter)\", \"position\": [0.49999999999999994, 1.0275938189845473], \"coordinates\": \"axes\", \"h_anchor\": \"middle\", \"v_baseline\": \"auto\", \"rotation\": -0.0, \"fontsize\": 12.0, \"color\": \"#000000\", \"alpha\": 1, \"zorder\": 3, \"id\": \"el100041791415710664\"}, {\"text\": \"data\", \"position\": [0.11051373954599761, 0.9218175128771156], \"coordinates\": \"axes\", \"h_anchor\": \"start\", \"v_baseline\": \"auto\", \"rotation\": -0.0, \"fontsize\": 10.0, \"color\": \"#000000\", \"alpha\": 1, \"zorder\": 1000003.0, \"id\": \"el100041791415904648\"}, {\"text\": \"best-fit\", \"position\": [0.11051373954599761, 0.8528329654157469], \"coordinates\": \"axes\", \"h_anchor\": \"start\", \"v_baseline\": \"auto\", \"rotation\": -0.0, \"fontsize\": 10.0, \"color\": \"#000000\", \"alpha\": 1, \"zorder\": 1000003.0, \"id\": \"el100041791415935816\"}], \"collections\": [], \"images\": [], \"sharex\": [], \"sharey\": []}], \"data\": {\"data01\": [[0.0, 0.0, 0.0], [1.0, 0.0, 0.01594445277218748], [2.0, 0.0, 0.05635453270919259], [3.0, 0.0, 0.1136767048729472], [4.0, 0.0, 0.1835743447877861], [5.0, 0.0, 0.2636436546545566], [6.0, 0.0, 0.3526482838859379], [7.0, 0.0, 0.4500635222772168], [8.0, 0.0, 0.5558053516153045], [9.0, 0.0, 0.6700699318962582], [10.0, 0.0, 0.7932390570393666], [11.0, 0.0, 0.9258251029824146], [12.0, 0.0, 1.0684396388234958], [13.0, 0.0, 1.2217762760975213], [14.0, 0.0, 1.3866021287325723], [15.0, 0.0, 1.5637545459594087], [16.0, 0.0, 1.754141124527852], [17.0, 0.0, 1.95874182695077], [18.0, 0.0, 2.1786125146603483], [19.0, 0.0, 2.4148894921430357], [20.0, 0.0, 2.668794841152849], [21.0, 0.0, 2.94164241949724], [22.0, 0.0, 3.2348444666058613], [23.0, 0.0, 3.549918797446342], [24.0, 0.0, 3.888496590221725], [25.0, 0.0, 4.25233079363576], [26.0, 0.0, 4.643305171166085], [27.0, 0.0, 5.063444037460116], [28.0, 0.0, 5.514922737964349], [29.0, 0.0, 6.000078902799786], [30.0, 0.0, 6.521424546776792], [31.0, 0.0, 7.081659129325863], [32.0, 0.0, 7.683683295327728], [33.0, 0.0, 8.330614240979303], [34.0, 0.0, 9.025801676354941], [35.0, 0.0, 9.772845155275423], [36.0, 0.0, 10.575612692794794], [37.0, 0.0, 11.438260866706177], [38.0, 0.0, 12.365256306706828], [39.0, 0.0, 13.361398813022456], [40.0, 0.0, 14.431846232620332], [41.0, 0.0, 15.582141179939379], [42.0, 0.0, 16.818239599173896], [43.0, 0.0, 18.146541836529558], [44.0, 0.0, 19.57392556374435], [45.0, 0.0, 21.107781519251702], [46.0, 0.0, 22.756051756545173], [47.0, 0.0, 24.527270654664587], [48.0, 0.0, 26.43060934345576], [49.0, 0.0, 28.475922918198627], [50.0, 0.0, 30.67380164179689], [51.0, 0.0, 33.03562576882067], [52.0, 0.0, 35.573624234462144], [53.0, 0.0, 38.300938489758536], [54.0, 0.0, 41.23169007849994], [55.0, 3.0, 44.381053821902235], [56.0, 3.0, 47.765336614124756], [57.0, 3.0, 51.40206166455825], [58.0, 3.0, 55.310059215198564], [59.0, 3.0, 59.509564206602505], [60.0, 3.0, 64.02232091472092], [61.0, 3.0, 68.87169556063122], [62.0, 3.0, 74.08279732703761], [63.0, 3.0, 79.68260850942177], [64.0, 3.0, 85.70012420104351], [65.0, 3.0, 92.16650158728493], [66.0, 3.0, 99.1152232282734], [67.0, 3.0, 106.58226491484217], [68.0, 3.0, 114.60629316300304], [69.0, 3.0, 123.22885428812263], [70.0, 3.0, 132.49459393325722], [71.0, 3.0, 142.45148845415352], [72.0, 3.0, 153.15109497061292], [73.0, 3.0, 164.6488121697148], [74.0, 3.0, 177.00416743852873], [75.0, 3.0, 190.28114294229866], [76.0, 3.0, 204.548481493924], [77.0, 3.0, 219.88005614775008], [78.0, 4.0, 236.35525129763394], [79.0, 4.0, 254.05937251818443], [80.0, 4.0, 273.0840883969825], [81.0, 4.0, 293.52790525530935], [82.0, 4.0, 315.49667726755195], [83.0, 13.0, 339.1041546832946], [84.0, 13.0, 364.47257321109566], [85.0, 14.0, 391.7332836275123], [86.0, 14.0, 421.02743751889767], [87.0, 15.0, 452.50671471240105], [88.0, 20.0, 486.33410873620585], [89.0, 23.0, 522.684771540838], [90.0, 27.0, 561.74691920163], [91.0, 27.0, 603.7228079124984], [92.0, 40.0, 648.8297802078446], [93.0, 43.0, 697.3013911994217], [94.0, 45.0, 749.3886167053789], [95.0, 73.0, 805.3611539517248], [96.0, 84.0, 865.5088169228998], [97.0, 95.0, 930.1430376185713], [98.0, 102.0, 999.5984784125197], [99.0, 123.0, 1074.2347652395513], [100.0, 148.0, 1154.4383483148388], [101.0, 191.0, 1240.6245048636383], [102.0, 192.0, 1333.2394866770455], [103.0, 229.0, 1432.7628333202376], [104.0, 229.0, 1539.7098549452942], [105.0, 375.0, 1654.6342975588523], [106.0, 421.0, 1778.1312118681387], [107.0, 506.0, 1910.840036992716], [108.0, 620.0, 2053.4479045579506], [109.0, 774.0, 2206.6932082419335], [110.0, 969.0, 2371.3694103894622], [111.0, 1080.0, 2548.329160615126], [112.0, 1181.0, 2738.4887089881904], [113.0, 1359.0, 2942.8326496308578], [114.0, 1432.0, 3162.4190184572467], [115.0, 1768.0, 3398.384770426409], [116.0, 2041.0, 3651.9516663741415], [117.0, 2463.0, 3924.4326060139597], [118.0, 2854.0, 4217.238403401754], [119.0, 3273.0, 4531.885223208639], [120.0, 3975.0, 4870.017321239074], [121.0, 4370.0, 5233.809033945156], [122.0, 5012.0, 5626.559836390156], [123.0, 5498.0, 6051.753191409953], [124.0, 5939.0, 6512.782590863561], [125.0, 6523.0, 7013.091531993756], [126.0, 7137.0, 7556.277173561493], [127.0, 7747.0, 8146.162355453611], [128.0, 8437.0, 8786.849769084467], [129.0, 9068.0, 9482.76658856423], [130.0, 10007.0, 10238.704574112471], [131.0, 10819.0, 11059.858675186148], [132.0, 11775.0, 11951.866034010665], [133.0, 12847.0, 12920.846642878998], [134.0, 14142.0, 13973.446477318399], [135.0, 15331.0, 15116.88375523158], [136.0, 16776.0, 16358.998820885583], [137.0, 17887.0, 17708.308132261867], [138.0, 19301.0, 19174.06277118711], [139.0, 20969.0, 20766.311936860537], [140.0, 22549.0, 22495.971956455716], [141.0, 24420.0, 24374.900787515693], [142.0, 26400.0, 26415.979724789995], [143.0, 27969.0, 28633.201551736045], [144.0, 30258.0, 31041.76633563363], [145.0, 34224.0, 33658.18554506648], [146.0, 36795.0, 36500.395295402515]], \"data02\": [[0.026881720430107503, 0.9379139072847682, 0.8689293598233996], [0.08661887694145756, 0.9379139072847682, 0.8689293598233996]], \"data03\": [[0.020908004778972505, 0.8252391464311994], [0.22252090800477894, 0.8252391464311994], [0.22849462365591397, 0.8252391464311994], [0.22849462365591397, 0.8344370860927152], [0.22849462365591397, 0.9678072111846947], [0.22849462365591397, 0.9770051508462105], [0.22252090800477894, 0.9770051508462105], [0.020908004778972505, 0.9770051508462105], [0.014934289127837508, 0.9770051508462105], [0.014934289127837508, 0.9678072111846947], [0.014934289127837508, 0.8344370860927152], [0.014934289127837508, 0.8252391464311994], [0.020908004778972505, 0.8252391464311994]]}, \"id\": \"el100041791381453128\", \"plugins\": [{\"type\": \"reset\"}, {\"type\": \"zoom\", \"button\": true, \"enabled\": false}, {\"type\": \"boxzoom\", \"button\": true, \"enabled\": false}]});\n",
       "   }(mpld3);\n",
       "}else if(typeof define === \"function\" && define.amd){\n",
       "   // require.js is available: use it to load d3/mpld3\n",
       "   require.config({paths: {d3: \"https://mpld3.github.io/js/d3.v3.min\"}});\n",
       "   require([\"d3\"], function(d3){\n",
       "      window.d3 = d3;\n",
       "      mpld3_load_lib(\"https://mpld3.github.io/js/mpld3.v0.3.js\", function(){\n",
       "         \n",
       "         mpld3.draw_figure(\"fig_el1000417913814531285425339249\", {\"width\": 432.0, \"height\": 288.0, \"axes\": [{\"bbox\": [0.125, 0.125, 0.775, 0.755], \"xlim\": [-7.300000000000001, 153.3], \"ylim\": [-1839.75, 38634.75], \"xdomain\": [-7.300000000000001, 153.3], \"ydomain\": [-1839.75, 38634.75], \"xscale\": \"linear\", \"yscale\": \"linear\", \"axes\": [{\"position\": \"bottom\", \"nticks\": 10, \"tickvalues\": null, \"tickformat\": null, \"scale\": \"linear\", \"fontsize\": 10.0, \"grid\": {\"gridOn\": false}, \"visible\": true}, {\"position\": \"left\", \"nticks\": 10, \"tickvalues\": null, \"tickformat\": null, \"scale\": \"linear\", \"fontsize\": 10.0, \"grid\": {\"gridOn\": false}, \"visible\": true}], \"axesbg\": \"#FFFFFF\", \"axesbgalpha\": null, \"zoomable\": true, \"id\": \"el100041791380966920\", \"lines\": [{\"data\": \"data01\", \"xindex\": 0, \"yindex\": 1, \"coordinates\": \"data\", \"id\": \"el100041791415737224\", \"color\": \"#1F77B4\", \"linewidth\": 1.5, \"dasharray\": \"none\", \"alpha\": 1, \"zorder\": 2, \"drawstyle\": \"default\"}, {\"data\": \"data01\", \"xindex\": 0, \"yindex\": 2, \"coordinates\": \"data\", \"id\": \"el100041791415619464\", \"color\": \"#FF7F0E\", \"linewidth\": 1.5, \"dasharray\": \"none\", \"alpha\": 1, \"zorder\": 2, \"drawstyle\": \"default\"}, {\"data\": \"data02\", \"xindex\": 0, \"yindex\": 1, \"coordinates\": \"axes\", \"id\": \"el100041791415905672\", \"color\": \"#1F77B4\", \"linewidth\": 1.5, \"dasharray\": \"none\", \"alpha\": 1, \"zorder\": 1000002.0, \"drawstyle\": \"default\"}, {\"data\": \"data02\", \"xindex\": 0, \"yindex\": 2, \"coordinates\": \"axes\", \"id\": \"el100041791415936968\", \"color\": \"#FF7F0E\", \"linewidth\": 1.5, \"dasharray\": \"none\", \"alpha\": 1, \"zorder\": 1000002.0, \"drawstyle\": \"default\"}], \"paths\": [{\"data\": \"data03\", \"xindex\": 0, \"yindex\": 1, \"coordinates\": \"axes\", \"pathcodes\": [\"M\", \"L\", \"S\", \"L\", \"S\", \"L\", \"S\", \"L\", \"S\", \"Z\"], \"id\": \"el100041791415903816\", \"dasharray\": \"none\", \"alpha\": 0.8, \"facecolor\": \"#FFFFFF\", \"edgecolor\": \"#CCCCCC\", \"edgewidth\": 1.0, \"zorder\": 1000000.0}], \"markers\": [], \"texts\": [{\"text\": \"x\", \"position\": [0.49999999999999994, -0.09657836644591611], \"coordinates\": \"axes\", \"h_anchor\": \"middle\", \"v_baseline\": \"hanging\", \"rotation\": -0.0, \"fontsize\": 10.0, \"color\": \"#000000\", \"alpha\": 1, \"zorder\": 3, \"id\": \"el100041791415563144\"}, {\"text\": \"y\", \"position\": [-0.12806152927120668, 0.49999999999999994], \"coordinates\": \"axes\", \"h_anchor\": \"middle\", \"v_baseline\": \"auto\", \"rotation\": -90.0, \"fontsize\": 10.0, \"color\": \"#000000\", \"alpha\": 1, \"zorder\": 3, \"id\": \"el100041791415565256\"}, {\"text\": \"Model(fitter)\", \"position\": [0.49999999999999994, 1.0275938189845473], \"coordinates\": \"axes\", \"h_anchor\": \"middle\", \"v_baseline\": \"auto\", \"rotation\": -0.0, \"fontsize\": 12.0, \"color\": \"#000000\", \"alpha\": 1, \"zorder\": 3, \"id\": \"el100041791415710664\"}, {\"text\": \"data\", \"position\": [0.11051373954599761, 0.9218175128771156], \"coordinates\": \"axes\", \"h_anchor\": \"start\", \"v_baseline\": \"auto\", \"rotation\": -0.0, \"fontsize\": 10.0, \"color\": \"#000000\", \"alpha\": 1, \"zorder\": 1000003.0, \"id\": \"el100041791415904648\"}, {\"text\": \"best-fit\", \"position\": [0.11051373954599761, 0.8528329654157469], \"coordinates\": \"axes\", \"h_anchor\": \"start\", \"v_baseline\": \"auto\", \"rotation\": -0.0, \"fontsize\": 10.0, \"color\": \"#000000\", \"alpha\": 1, \"zorder\": 1000003.0, \"id\": \"el100041791415935816\"}], \"collections\": [], \"images\": [], \"sharex\": [], \"sharey\": []}], \"data\": {\"data01\": [[0.0, 0.0, 0.0], [1.0, 0.0, 0.01594445277218748], [2.0, 0.0, 0.05635453270919259], [3.0, 0.0, 0.1136767048729472], [4.0, 0.0, 0.1835743447877861], [5.0, 0.0, 0.2636436546545566], [6.0, 0.0, 0.3526482838859379], [7.0, 0.0, 0.4500635222772168], [8.0, 0.0, 0.5558053516153045], [9.0, 0.0, 0.6700699318962582], [10.0, 0.0, 0.7932390570393666], [11.0, 0.0, 0.9258251029824146], [12.0, 0.0, 1.0684396388234958], [13.0, 0.0, 1.2217762760975213], [14.0, 0.0, 1.3866021287325723], [15.0, 0.0, 1.5637545459594087], [16.0, 0.0, 1.754141124527852], [17.0, 0.0, 1.95874182695077], [18.0, 0.0, 2.1786125146603483], [19.0, 0.0, 2.4148894921430357], [20.0, 0.0, 2.668794841152849], [21.0, 0.0, 2.94164241949724], [22.0, 0.0, 3.2348444666058613], [23.0, 0.0, 3.549918797446342], [24.0, 0.0, 3.888496590221725], [25.0, 0.0, 4.25233079363576], [26.0, 0.0, 4.643305171166085], [27.0, 0.0, 5.063444037460116], [28.0, 0.0, 5.514922737964349], [29.0, 0.0, 6.000078902799786], [30.0, 0.0, 6.521424546776792], [31.0, 0.0, 7.081659129325863], [32.0, 0.0, 7.683683295327728], [33.0, 0.0, 8.330614240979303], [34.0, 0.0, 9.025801676354941], [35.0, 0.0, 9.772845155275423], [36.0, 0.0, 10.575612692794794], [37.0, 0.0, 11.438260866706177], [38.0, 0.0, 12.365256306706828], [39.0, 0.0, 13.361398813022456], [40.0, 0.0, 14.431846232620332], [41.0, 0.0, 15.582141179939379], [42.0, 0.0, 16.818239599173896], [43.0, 0.0, 18.146541836529558], [44.0, 0.0, 19.57392556374435], [45.0, 0.0, 21.107781519251702], [46.0, 0.0, 22.756051756545173], [47.0, 0.0, 24.527270654664587], [48.0, 0.0, 26.43060934345576], [49.0, 0.0, 28.475922918198627], [50.0, 0.0, 30.67380164179689], [51.0, 0.0, 33.03562576882067], [52.0, 0.0, 35.573624234462144], [53.0, 0.0, 38.300938489758536], [54.0, 0.0, 41.23169007849994], [55.0, 3.0, 44.381053821902235], [56.0, 3.0, 47.765336614124756], [57.0, 3.0, 51.40206166455825], [58.0, 3.0, 55.310059215198564], [59.0, 3.0, 59.509564206602505], [60.0, 3.0, 64.02232091472092], [61.0, 3.0, 68.87169556063122], [62.0, 3.0, 74.08279732703761], [63.0, 3.0, 79.68260850942177], [64.0, 3.0, 85.70012420104351], [65.0, 3.0, 92.16650158728493], [66.0, 3.0, 99.1152232282734], [67.0, 3.0, 106.58226491484217], [68.0, 3.0, 114.60629316300304], [69.0, 3.0, 123.22885428812263], [70.0, 3.0, 132.49459393325722], [71.0, 3.0, 142.45148845415352], [72.0, 3.0, 153.15109497061292], [73.0, 3.0, 164.6488121697148], [74.0, 3.0, 177.00416743852873], [75.0, 3.0, 190.28114294229866], [76.0, 3.0, 204.548481493924], [77.0, 3.0, 219.88005614775008], [78.0, 4.0, 236.35525129763394], [79.0, 4.0, 254.05937251818443], [80.0, 4.0, 273.0840883969825], [81.0, 4.0, 293.52790525530935], [82.0, 4.0, 315.49667726755195], [83.0, 13.0, 339.1041546832946], [84.0, 13.0, 364.47257321109566], [85.0, 14.0, 391.7332836275123], [86.0, 14.0, 421.02743751889767], [87.0, 15.0, 452.50671471240105], [88.0, 20.0, 486.33410873620585], [89.0, 23.0, 522.684771540838], [90.0, 27.0, 561.74691920163], [91.0, 27.0, 603.7228079124984], [92.0, 40.0, 648.8297802078446], [93.0, 43.0, 697.3013911994217], [94.0, 45.0, 749.3886167053789], [95.0, 73.0, 805.3611539517248], [96.0, 84.0, 865.5088169228998], [97.0, 95.0, 930.1430376185713], [98.0, 102.0, 999.5984784125197], [99.0, 123.0, 1074.2347652395513], [100.0, 148.0, 1154.4383483148388], [101.0, 191.0, 1240.6245048636383], [102.0, 192.0, 1333.2394866770455], [103.0, 229.0, 1432.7628333202376], [104.0, 229.0, 1539.7098549452942], [105.0, 375.0, 1654.6342975588523], [106.0, 421.0, 1778.1312118681387], [107.0, 506.0, 1910.840036992716], [108.0, 620.0, 2053.4479045579506], [109.0, 774.0, 2206.6932082419335], [110.0, 969.0, 2371.3694103894622], [111.0, 1080.0, 2548.329160615126], [112.0, 1181.0, 2738.4887089881904], [113.0, 1359.0, 2942.8326496308578], [114.0, 1432.0, 3162.4190184572467], [115.0, 1768.0, 3398.384770426409], [116.0, 2041.0, 3651.9516663741415], [117.0, 2463.0, 3924.4326060139597], [118.0, 2854.0, 4217.238403401754], [119.0, 3273.0, 4531.885223208639], [120.0, 3975.0, 4870.017321239074], [121.0, 4370.0, 5233.809033945156], [122.0, 5012.0, 5626.559836390156], [123.0, 5498.0, 6051.753191409953], [124.0, 5939.0, 6512.782590863561], [125.0, 6523.0, 7013.091531993756], [126.0, 7137.0, 7556.277173561493], [127.0, 7747.0, 8146.162355453611], [128.0, 8437.0, 8786.849769084467], [129.0, 9068.0, 9482.76658856423], [130.0, 10007.0, 10238.704574112471], [131.0, 10819.0, 11059.858675186148], [132.0, 11775.0, 11951.866034010665], [133.0, 12847.0, 12920.846642878998], [134.0, 14142.0, 13973.446477318399], [135.0, 15331.0, 15116.88375523158], [136.0, 16776.0, 16358.998820885583], [137.0, 17887.0, 17708.308132261867], [138.0, 19301.0, 19174.06277118711], [139.0, 20969.0, 20766.311936860537], [140.0, 22549.0, 22495.971956455716], [141.0, 24420.0, 24374.900787515693], [142.0, 26400.0, 26415.979724789995], [143.0, 27969.0, 28633.201551736045], [144.0, 30258.0, 31041.76633563363], [145.0, 34224.0, 33658.18554506648], [146.0, 36795.0, 36500.395295402515]], \"data02\": [[0.026881720430107503, 0.9379139072847682, 0.8689293598233996], [0.08661887694145756, 0.9379139072847682, 0.8689293598233996]], \"data03\": [[0.020908004778972505, 0.8252391464311994], [0.22252090800477894, 0.8252391464311994], [0.22849462365591397, 0.8252391464311994], [0.22849462365591397, 0.8344370860927152], [0.22849462365591397, 0.9678072111846947], [0.22849462365591397, 0.9770051508462105], [0.22252090800477894, 0.9770051508462105], [0.020908004778972505, 0.9770051508462105], [0.014934289127837508, 0.9770051508462105], [0.014934289127837508, 0.9678072111846947], [0.014934289127837508, 0.8344370860927152], [0.014934289127837508, 0.8252391464311994], [0.020908004778972505, 0.8252391464311994]]}, \"id\": \"el100041791381453128\", \"plugins\": [{\"type\": \"reset\"}, {\"type\": \"zoom\", \"button\": true, \"enabled\": false}, {\"type\": \"boxzoom\", \"button\": true, \"enabled\": false}]});\n",
       "      });\n",
       "    });\n",
       "}else{\n",
       "    // require.js not available: dynamically load d3 & mpld3\n",
       "    mpld3_load_lib(\"https://mpld3.github.io/js/d3.v3.min.js\", function(){\n",
       "         mpld3_load_lib(\"https://mpld3.github.io/js/mpld3.v0.3.js\", function(){\n",
       "                 \n",
       "                 mpld3.draw_figure(\"fig_el1000417913814531285425339249\", {\"width\": 432.0, \"height\": 288.0, \"axes\": [{\"bbox\": [0.125, 0.125, 0.775, 0.755], \"xlim\": [-7.300000000000001, 153.3], \"ylim\": [-1839.75, 38634.75], \"xdomain\": [-7.300000000000001, 153.3], \"ydomain\": [-1839.75, 38634.75], \"xscale\": \"linear\", \"yscale\": \"linear\", \"axes\": [{\"position\": \"bottom\", \"nticks\": 10, \"tickvalues\": null, \"tickformat\": null, \"scale\": \"linear\", \"fontsize\": 10.0, \"grid\": {\"gridOn\": false}, \"visible\": true}, {\"position\": \"left\", \"nticks\": 10, \"tickvalues\": null, \"tickformat\": null, \"scale\": \"linear\", \"fontsize\": 10.0, \"grid\": {\"gridOn\": false}, \"visible\": true}], \"axesbg\": \"#FFFFFF\", \"axesbgalpha\": null, \"zoomable\": true, \"id\": \"el100041791380966920\", \"lines\": [{\"data\": \"data01\", \"xindex\": 0, \"yindex\": 1, \"coordinates\": \"data\", \"id\": \"el100041791415737224\", \"color\": \"#1F77B4\", \"linewidth\": 1.5, \"dasharray\": \"none\", \"alpha\": 1, \"zorder\": 2, \"drawstyle\": \"default\"}, {\"data\": \"data01\", \"xindex\": 0, \"yindex\": 2, \"coordinates\": \"data\", \"id\": \"el100041791415619464\", \"color\": \"#FF7F0E\", \"linewidth\": 1.5, \"dasharray\": \"none\", \"alpha\": 1, \"zorder\": 2, \"drawstyle\": \"default\"}, {\"data\": \"data02\", \"xindex\": 0, \"yindex\": 1, \"coordinates\": \"axes\", \"id\": \"el100041791415905672\", \"color\": \"#1F77B4\", \"linewidth\": 1.5, \"dasharray\": \"none\", \"alpha\": 1, \"zorder\": 1000002.0, \"drawstyle\": \"default\"}, {\"data\": \"data02\", \"xindex\": 0, \"yindex\": 2, \"coordinates\": \"axes\", \"id\": \"el100041791415936968\", \"color\": \"#FF7F0E\", \"linewidth\": 1.5, \"dasharray\": \"none\", \"alpha\": 1, \"zorder\": 1000002.0, \"drawstyle\": \"default\"}], \"paths\": [{\"data\": \"data03\", \"xindex\": 0, \"yindex\": 1, \"coordinates\": \"axes\", \"pathcodes\": [\"M\", \"L\", \"S\", \"L\", \"S\", \"L\", \"S\", \"L\", \"S\", \"Z\"], \"id\": \"el100041791415903816\", \"dasharray\": \"none\", \"alpha\": 0.8, \"facecolor\": \"#FFFFFF\", \"edgecolor\": \"#CCCCCC\", \"edgewidth\": 1.0, \"zorder\": 1000000.0}], \"markers\": [], \"texts\": [{\"text\": \"x\", \"position\": [0.49999999999999994, -0.09657836644591611], \"coordinates\": \"axes\", \"h_anchor\": \"middle\", \"v_baseline\": \"hanging\", \"rotation\": -0.0, \"fontsize\": 10.0, \"color\": \"#000000\", \"alpha\": 1, \"zorder\": 3, \"id\": \"el100041791415563144\"}, {\"text\": \"y\", \"position\": [-0.12806152927120668, 0.49999999999999994], \"coordinates\": \"axes\", \"h_anchor\": \"middle\", \"v_baseline\": \"auto\", \"rotation\": -90.0, \"fontsize\": 10.0, \"color\": \"#000000\", \"alpha\": 1, \"zorder\": 3, \"id\": \"el100041791415565256\"}, {\"text\": \"Model(fitter)\", \"position\": [0.49999999999999994, 1.0275938189845473], \"coordinates\": \"axes\", \"h_anchor\": \"middle\", \"v_baseline\": \"auto\", \"rotation\": -0.0, \"fontsize\": 12.0, \"color\": \"#000000\", \"alpha\": 1, \"zorder\": 3, \"id\": \"el100041791415710664\"}, {\"text\": \"data\", \"position\": [0.11051373954599761, 0.9218175128771156], \"coordinates\": \"axes\", \"h_anchor\": \"start\", \"v_baseline\": \"auto\", \"rotation\": -0.0, \"fontsize\": 10.0, \"color\": \"#000000\", \"alpha\": 1, \"zorder\": 1000003.0, \"id\": \"el100041791415904648\"}, {\"text\": \"best-fit\", \"position\": [0.11051373954599761, 0.8528329654157469], \"coordinates\": \"axes\", \"h_anchor\": \"start\", \"v_baseline\": \"auto\", \"rotation\": -0.0, \"fontsize\": 10.0, \"color\": \"#000000\", \"alpha\": 1, \"zorder\": 1000003.0, \"id\": \"el100041791415935816\"}], \"collections\": [], \"images\": [], \"sharex\": [], \"sharey\": []}], \"data\": {\"data01\": [[0.0, 0.0, 0.0], [1.0, 0.0, 0.01594445277218748], [2.0, 0.0, 0.05635453270919259], [3.0, 0.0, 0.1136767048729472], [4.0, 0.0, 0.1835743447877861], [5.0, 0.0, 0.2636436546545566], [6.0, 0.0, 0.3526482838859379], [7.0, 0.0, 0.4500635222772168], [8.0, 0.0, 0.5558053516153045], [9.0, 0.0, 0.6700699318962582], [10.0, 0.0, 0.7932390570393666], [11.0, 0.0, 0.9258251029824146], [12.0, 0.0, 1.0684396388234958], [13.0, 0.0, 1.2217762760975213], [14.0, 0.0, 1.3866021287325723], [15.0, 0.0, 1.5637545459594087], [16.0, 0.0, 1.754141124527852], [17.0, 0.0, 1.95874182695077], [18.0, 0.0, 2.1786125146603483], [19.0, 0.0, 2.4148894921430357], [20.0, 0.0, 2.668794841152849], [21.0, 0.0, 2.94164241949724], [22.0, 0.0, 3.2348444666058613], [23.0, 0.0, 3.549918797446342], [24.0, 0.0, 3.888496590221725], [25.0, 0.0, 4.25233079363576], [26.0, 0.0, 4.643305171166085], [27.0, 0.0, 5.063444037460116], [28.0, 0.0, 5.514922737964349], [29.0, 0.0, 6.000078902799786], [30.0, 0.0, 6.521424546776792], [31.0, 0.0, 7.081659129325863], [32.0, 0.0, 7.683683295327728], [33.0, 0.0, 8.330614240979303], [34.0, 0.0, 9.025801676354941], [35.0, 0.0, 9.772845155275423], [36.0, 0.0, 10.575612692794794], [37.0, 0.0, 11.438260866706177], [38.0, 0.0, 12.365256306706828], [39.0, 0.0, 13.361398813022456], [40.0, 0.0, 14.431846232620332], [41.0, 0.0, 15.582141179939379], [42.0, 0.0, 16.818239599173896], [43.0, 0.0, 18.146541836529558], [44.0, 0.0, 19.57392556374435], [45.0, 0.0, 21.107781519251702], [46.0, 0.0, 22.756051756545173], [47.0, 0.0, 24.527270654664587], [48.0, 0.0, 26.43060934345576], [49.0, 0.0, 28.475922918198627], [50.0, 0.0, 30.67380164179689], [51.0, 0.0, 33.03562576882067], [52.0, 0.0, 35.573624234462144], [53.0, 0.0, 38.300938489758536], [54.0, 0.0, 41.23169007849994], [55.0, 3.0, 44.381053821902235], [56.0, 3.0, 47.765336614124756], [57.0, 3.0, 51.40206166455825], [58.0, 3.0, 55.310059215198564], [59.0, 3.0, 59.509564206602505], [60.0, 3.0, 64.02232091472092], [61.0, 3.0, 68.87169556063122], [62.0, 3.0, 74.08279732703761], [63.0, 3.0, 79.68260850942177], [64.0, 3.0, 85.70012420104351], [65.0, 3.0, 92.16650158728493], [66.0, 3.0, 99.1152232282734], [67.0, 3.0, 106.58226491484217], [68.0, 3.0, 114.60629316300304], [69.0, 3.0, 123.22885428812263], [70.0, 3.0, 132.49459393325722], [71.0, 3.0, 142.45148845415352], [72.0, 3.0, 153.15109497061292], [73.0, 3.0, 164.6488121697148], [74.0, 3.0, 177.00416743852873], [75.0, 3.0, 190.28114294229866], [76.0, 3.0, 204.548481493924], [77.0, 3.0, 219.88005614775008], [78.0, 4.0, 236.35525129763394], [79.0, 4.0, 254.05937251818443], [80.0, 4.0, 273.0840883969825], [81.0, 4.0, 293.52790525530935], [82.0, 4.0, 315.49667726755195], [83.0, 13.0, 339.1041546832946], [84.0, 13.0, 364.47257321109566], [85.0, 14.0, 391.7332836275123], [86.0, 14.0, 421.02743751889767], [87.0, 15.0, 452.50671471240105], [88.0, 20.0, 486.33410873620585], [89.0, 23.0, 522.684771540838], [90.0, 27.0, 561.74691920163], [91.0, 27.0, 603.7228079124984], [92.0, 40.0, 648.8297802078446], [93.0, 43.0, 697.3013911994217], [94.0, 45.0, 749.3886167053789], [95.0, 73.0, 805.3611539517248], [96.0, 84.0, 865.5088169228998], [97.0, 95.0, 930.1430376185713], [98.0, 102.0, 999.5984784125197], [99.0, 123.0, 1074.2347652395513], [100.0, 148.0, 1154.4383483148388], [101.0, 191.0, 1240.6245048636383], [102.0, 192.0, 1333.2394866770455], [103.0, 229.0, 1432.7628333202376], [104.0, 229.0, 1539.7098549452942], [105.0, 375.0, 1654.6342975588523], [106.0, 421.0, 1778.1312118681387], [107.0, 506.0, 1910.840036992716], [108.0, 620.0, 2053.4479045579506], [109.0, 774.0, 2206.6932082419335], [110.0, 969.0, 2371.3694103894622], [111.0, 1080.0, 2548.329160615126], [112.0, 1181.0, 2738.4887089881904], [113.0, 1359.0, 2942.8326496308578], [114.0, 1432.0, 3162.4190184572467], [115.0, 1768.0, 3398.384770426409], [116.0, 2041.0, 3651.9516663741415], [117.0, 2463.0, 3924.4326060139597], [118.0, 2854.0, 4217.238403401754], [119.0, 3273.0, 4531.885223208639], [120.0, 3975.0, 4870.017321239074], [121.0, 4370.0, 5233.809033945156], [122.0, 5012.0, 5626.559836390156], [123.0, 5498.0, 6051.753191409953], [124.0, 5939.0, 6512.782590863561], [125.0, 6523.0, 7013.091531993756], [126.0, 7137.0, 7556.277173561493], [127.0, 7747.0, 8146.162355453611], [128.0, 8437.0, 8786.849769084467], [129.0, 9068.0, 9482.76658856423], [130.0, 10007.0, 10238.704574112471], [131.0, 10819.0, 11059.858675186148], [132.0, 11775.0, 11951.866034010665], [133.0, 12847.0, 12920.846642878998], [134.0, 14142.0, 13973.446477318399], [135.0, 15331.0, 15116.88375523158], [136.0, 16776.0, 16358.998820885583], [137.0, 17887.0, 17708.308132261867], [138.0, 19301.0, 19174.06277118711], [139.0, 20969.0, 20766.311936860537], [140.0, 22549.0, 22495.971956455716], [141.0, 24420.0, 24374.900787515693], [142.0, 26400.0, 26415.979724789995], [143.0, 27969.0, 28633.201551736045], [144.0, 30258.0, 31041.76633563363], [145.0, 34224.0, 33658.18554506648], [146.0, 36795.0, 36500.395295402515]], \"data02\": [[0.026881720430107503, 0.9379139072847682, 0.8689293598233996], [0.08661887694145756, 0.9379139072847682, 0.8689293598233996]], \"data03\": [[0.020908004778972505, 0.8252391464311994], [0.22252090800477894, 0.8252391464311994], [0.22849462365591397, 0.8252391464311994], [0.22849462365591397, 0.8344370860927152], [0.22849462365591397, 0.9678072111846947], [0.22849462365591397, 0.9770051508462105], [0.22252090800477894, 0.9770051508462105], [0.020908004778972505, 0.9770051508462105], [0.014934289127837508, 0.9770051508462105], [0.014934289127837508, 0.9678072111846947], [0.014934289127837508, 0.8344370860927152], [0.014934289127837508, 0.8252391464311994], [0.020908004778972505, 0.8252391464311994]]}, \"id\": \"el100041791381453128\", \"plugins\": [{\"type\": \"reset\"}, {\"type\": \"zoom\", \"button\": true, \"enabled\": false}, {\"type\": \"boxzoom\", \"button\": true, \"enabled\": false}]});\n",
       "            })\n",
       "         });\n",
       "}\n",
       "</script>"
      ],
      "text/plain": [
       "<Figure size 432x288 with 1 Axes>"
      ]
     },
     "metadata": {
      "needs_background": "light"
     },
     "output_type": "display_data"
    }
   ],
   "source": [
    "result = mod.fit(y_data, params, method=\"least_squares\", x=x_data)\n",
    "result.plot_fit(datafmt=\"-\");\n",
    "result.best_values"
   ]
  },
  {
   "cell_type": "code",
   "execution_count": null,
   "metadata": {},
   "outputs": [],
   "source": []
  }
 ],
 "metadata": {
  "kernelspec": {
   "display_name": "Python 3",
   "language": "python",
   "name": "python3"
  },
  "language_info": {
   "codemirror_mode": {
    "name": "ipython",
    "version": 3
   },
   "file_extension": ".py",
   "mimetype": "text/x-python",
   "name": "python",
   "nbconvert_exporter": "python",
   "pygments_lexer": "ipython3",
   "version": "3.7.6"
  }
 },
 "nbformat": 4,
 "nbformat_minor": 4
}
